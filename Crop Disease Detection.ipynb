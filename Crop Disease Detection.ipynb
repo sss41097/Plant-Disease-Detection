{
  "nbformat": 4,
  "nbformat_minor": 0,
  "metadata": {
    "colab": {
      "name": "Copy of Disease Detection.ipynb",
      "provenance": [],
      "collapsed_sections": []
    },
    "kernelspec": {
      "name": "python3",
      "display_name": "Python 3"
    },
    "accelerator": "GPU"
  },
  "cells": [
    {
      "cell_type": "code",
      "metadata": {
        "id": "m6JplOjxtNUI",
        "colab_type": "code",
        "outputId": "ef86d618-a5b3-4854-a363-54b1da1f2f4d",
        "colab": {
          "base_uri": "https://localhost:8080/",
          "height": 153
        }
      },
      "source": [
        "!git clone https://github.com/sss41097/PlantVillage.git"
      ],
      "execution_count": 0,
      "outputs": [
        {
          "output_type": "stream",
          "text": [
            "Cloning into 'PlantVillage'...\n",
            "remote: Enumerating objects: 17, done.\u001b[K\n",
            "remote: Counting objects:   5% (1/17)\u001b[K\rremote: Counting objects:  11% (2/17)\u001b[K\rremote: Counting objects:  17% (3/17)\u001b[K\rremote: Counting objects:  23% (4/17)\u001b[K\rremote: Counting objects:  29% (5/17)\u001b[K\rremote: Counting objects:  35% (6/17)\u001b[K\rremote: Counting objects:  41% (7/17)\u001b[K\rremote: Counting objects:  47% (8/17)\u001b[K\rremote: Counting objects:  52% (9/17)\u001b[K\rremote: Counting objects:  58% (10/17)\u001b[K\rremote: Counting objects:  64% (11/17)\u001b[K\rremote: Counting objects:  70% (12/17)\u001b[K\rremote: Counting objects:  76% (13/17)\u001b[K\rremote: Counting objects:  82% (14/17)\u001b[K\rremote: Counting objects:  88% (15/17)\u001b[K\rremote: Counting objects:  94% (16/17)\u001b[K\rremote: Counting objects: 100% (17/17)\u001b[K\rremote: Counting objects: 100% (17/17), done.\u001b[K\n",
            "remote: Compressing objects: 100% (17/17), done.\u001b[K\n",
            "remote: Total 52627 (delta 3), reused 0 (delta 0), pack-reused 52610\u001b[K\n",
            "Receiving objects: 100% (52627/52627), 865.24 MiB | 36.11 MiB/s, done.\n",
            "Resolving deltas: 100% (9/9), done.\n",
            "Checking out files: 100% (46343/46343), done.\n"
          ],
          "name": "stdout"
        }
      ]
    },
    {
      "cell_type": "code",
      "metadata": {
        "id": "K6_S84sKtON6",
        "colab_type": "code",
        "outputId": "34add286-abc6-49fb-85e7-001714ed8d96",
        "colab": {
          "base_uri": "https://localhost:8080/",
          "height": 34
        }
      },
      "source": [
        "!ls"
      ],
      "execution_count": 0,
      "outputs": [
        {
          "output_type": "stream",
          "text": [
            "PlantVillage  sample_data\n"
          ],
          "name": "stdout"
        }
      ]
    },
    {
      "cell_type": "code",
      "metadata": {
        "id": "uJ5OgZNftfBl",
        "colab_type": "code",
        "colab": {}
      },
      "source": [
        "import os"
      ],
      "execution_count": 0,
      "outputs": []
    },
    {
      "cell_type": "code",
      "metadata": {
        "id": "rxglO0Khth24",
        "colab_type": "code",
        "colab": {}
      },
      "source": [
        "os.chdir('PlantVillage')"
      ],
      "execution_count": 0,
      "outputs": []
    },
    {
      "cell_type": "code",
      "metadata": {
        "id": "AM4BfE4DtkJH",
        "colab_type": "code",
        "outputId": "e3a617f1-b549-4771-ed05-d18dc4ca635e",
        "colab": {
          "base_uri": "https://localhost:8080/",
          "height": 34
        }
      },
      "source": [
        "!ls"
      ],
      "execution_count": 0,
      "outputs": [
        {
          "output_type": "stream",
          "text": [
            "train  val\n"
          ],
          "name": "stdout"
        }
      ]
    },
    {
      "cell_type": "code",
      "metadata": {
        "id": "bJqqzNyJtlEf",
        "colab_type": "code",
        "outputId": "2de00b9f-1b31-4996-fc58-285ffe1ca6c8",
        "colab": {
          "base_uri": "https://localhost:8080/",
          "height": 162
        }
      },
      "source": [
        "os.chdir('Desktop')"
      ],
      "execution_count": 0,
      "outputs": [
        {
          "output_type": "error",
          "ename": "FileNotFoundError",
          "evalue": "ignored",
          "traceback": [
            "\u001b[0;31m---------------------------------------------------------------------------\u001b[0m",
            "\u001b[0;31mFileNotFoundError\u001b[0m                         Traceback (most recent call last)",
            "\u001b[0;32m<ipython-input-6-fef7b05144f0>\u001b[0m in \u001b[0;36m<module>\u001b[0;34m()\u001b[0m\n\u001b[0;32m----> 1\u001b[0;31m \u001b[0mos\u001b[0m\u001b[0;34m.\u001b[0m\u001b[0mchdir\u001b[0m\u001b[0;34m(\u001b[0m\u001b[0;34m'Desktop'\u001b[0m\u001b[0;34m)\u001b[0m\u001b[0;34m\u001b[0m\u001b[0;34m\u001b[0m\u001b[0m\n\u001b[0m",
            "\u001b[0;31mFileNotFoundError\u001b[0m: [Errno 2] No such file or directory: 'Desktop'"
          ]
        }
      ]
    },
    {
      "cell_type": "code",
      "metadata": {
        "id": "Y5J2gHXKto34",
        "colab_type": "code",
        "colab": {}
      },
      "source": [
        "!ls\n"
      ],
      "execution_count": 0,
      "outputs": []
    },
    {
      "cell_type": "code",
      "metadata": {
        "id": "Qr8fiNNJtq61",
        "colab_type": "code",
        "colab": {}
      },
      "source": [
        "os.chdir('images')"
      ],
      "execution_count": 0,
      "outputs": []
    },
    {
      "cell_type": "code",
      "metadata": {
        "id": "mcRLIDlutt4G",
        "colab_type": "code",
        "colab": {}
      },
      "source": [
        "!ls"
      ],
      "execution_count": 0,
      "outputs": []
    },
    {
      "cell_type": "code",
      "metadata": {
        "id": "nHTtxKomtu_8",
        "colab_type": "code",
        "outputId": "b044bfed-9a07-4bb3-c6ef-be69ca236e03",
        "colab": {
          "base_uri": "https://localhost:8080/",
          "height": 34
        }
      },
      "source": [
        "import matplotlib.pyplot as plt\n",
        "%matplotlib inline\n",
        "import pandas as pd\n",
        "import numpy as np\n",
        "import PIL\n",
        "import cv2\n",
        "from PIL import Image\n",
        "from skimage.color import rgb2gray\n",
        "from scipy import ndimage as ndi\n",
        "import os\n",
        "from os import listdir\n",
        "from sklearn.utils import shuffle\n",
        "from sklearn import preprocessing\n",
        "import keras\n",
        "from keras.models import Sequential, load_model\n",
        "from keras.layers import Dense, Activation, Conv2D, MaxPooling2D, Flatten, Dropout, BatchNormalization\n",
        "from keras.optimizers import SGD\n",
        "from keras import regularizers\n",
        "from keras.callbacks import ModelCheckpoint\n",
        "from keras.preprocessing.image import img_to_array\n",
        "from sklearn.preprocessing import MultiLabelBinarizer\n",
        "from sklearn.preprocessing import LabelBinarizer\n",
        "from sklearn.model_selection import train_test_split\n",
        "import numpy as np\n",
        "import matplotlib.pyplot as plt\n",
        "\n",
        "from sklearn import svm, datasets\n",
        "from sklearn.model_selection import train_test_split\n",
        "from sklearn.metrics import confusion_matrix\n",
        "from sklearn.utils.multiclass import unique_labels"
      ],
      "execution_count": 0,
      "outputs": [
        {
          "output_type": "stream",
          "text": [
            "Using TensorFlow backend.\n"
          ],
          "name": "stderr"
        }
      ]
    },
    {
      "cell_type": "code",
      "metadata": {
        "id": "MyFVmleF28rc",
        "colab_type": "code",
        "colab": {}
      },
      "source": [
        ""
      ],
      "execution_count": 0,
      "outputs": []
    },
    {
      "cell_type": "code",
      "metadata": {
        "id": "y56PXz9l29bV",
        "colab_type": "code",
        "colab": {}
      },
      "source": [
        ""
      ],
      "execution_count": 0,
      "outputs": []
    },
    {
      "cell_type": "code",
      "metadata": {
        "id": "FVzr7pqPuGLZ",
        "colab_type": "code",
        "outputId": "eccd8453-d222-4fb2-886e-34ae34a8c43c",
        "colab": {
          "base_uri": "https://localhost:8080/",
          "height": 275
        }
      },
      "source": [
        "import keras\n",
        "import numpy as np\n",
        "from keras.applications import VGG16\n",
        "conv_base = VGG16(weights='imagenet',\n",
        "include_top=False,\n",
        "input_shape=(128, 128, 3))"
      ],
      "execution_count": 0,
      "outputs": [
        {
          "output_type": "stream",
          "text": [
            "WARNING:tensorflow:From /usr/local/lib/python3.6/dist-packages/keras/backend/tensorflow_backend.py:66: The name tf.get_default_graph is deprecated. Please use tf.compat.v1.get_default_graph instead.\n",
            "\n",
            "WARNING:tensorflow:From /usr/local/lib/python3.6/dist-packages/keras/backend/tensorflow_backend.py:541: The name tf.placeholder is deprecated. Please use tf.compat.v1.placeholder instead.\n",
            "\n",
            "WARNING:tensorflow:From /usr/local/lib/python3.6/dist-packages/keras/backend/tensorflow_backend.py:4432: The name tf.random_uniform is deprecated. Please use tf.random.uniform instead.\n",
            "\n",
            "WARNING:tensorflow:From /usr/local/lib/python3.6/dist-packages/keras/backend/tensorflow_backend.py:4267: The name tf.nn.max_pool is deprecated. Please use tf.nn.max_pool2d instead.\n",
            "\n",
            "Downloading data from https://github.com/fchollet/deep-learning-models/releases/download/v0.1/vgg16_weights_tf_dim_ordering_tf_kernels_notop.h5\n",
            "58892288/58889256 [==============================] - 3s 0us/step\n",
            "WARNING:tensorflow:From /usr/local/lib/python3.6/dist-packages/keras/backend/tensorflow_backend.py:190: The name tf.get_default_session is deprecated. Please use tf.compat.v1.get_default_session instead.\n",
            "\n",
            "WARNING:tensorflow:From /usr/local/lib/python3.6/dist-packages/keras/backend/tensorflow_backend.py:197: The name tf.ConfigProto is deprecated. Please use tf.compat.v1.ConfigProto instead.\n",
            "\n"
          ],
          "name": "stdout"
        }
      ]
    },
    {
      "cell_type": "code",
      "metadata": {
        "id": "s2f1zpqIuJun",
        "colab_type": "code",
        "outputId": "38ae9626-1c83-481e-ff11-d729f9b92467",
        "colab": {
          "base_uri": "https://localhost:8080/",
          "height": 799
        }
      },
      "source": [
        "conv_base.summary()"
      ],
      "execution_count": 0,
      "outputs": [
        {
          "output_type": "stream",
          "text": [
            "Model: \"vgg16\"\n",
            "_________________________________________________________________\n",
            "Layer (type)                 Output Shape              Param #   \n",
            "=================================================================\n",
            "input_1 (InputLayer)         (None, 128, 128, 3)       0         \n",
            "_________________________________________________________________\n",
            "block1_conv1 (Conv2D)        (None, 128, 128, 64)      1792      \n",
            "_________________________________________________________________\n",
            "block1_conv2 (Conv2D)        (None, 128, 128, 64)      36928     \n",
            "_________________________________________________________________\n",
            "block1_pool (MaxPooling2D)   (None, 64, 64, 64)        0         \n",
            "_________________________________________________________________\n",
            "block2_conv1 (Conv2D)        (None, 64, 64, 128)       73856     \n",
            "_________________________________________________________________\n",
            "block2_conv2 (Conv2D)        (None, 64, 64, 128)       147584    \n",
            "_________________________________________________________________\n",
            "block2_pool (MaxPooling2D)   (None, 32, 32, 128)       0         \n",
            "_________________________________________________________________\n",
            "block3_conv1 (Conv2D)        (None, 32, 32, 256)       295168    \n",
            "_________________________________________________________________\n",
            "block3_conv2 (Conv2D)        (None, 32, 32, 256)       590080    \n",
            "_________________________________________________________________\n",
            "block3_conv3 (Conv2D)        (None, 32, 32, 256)       590080    \n",
            "_________________________________________________________________\n",
            "block3_pool (MaxPooling2D)   (None, 16, 16, 256)       0         \n",
            "_________________________________________________________________\n",
            "block4_conv1 (Conv2D)        (None, 16, 16, 512)       1180160   \n",
            "_________________________________________________________________\n",
            "block4_conv2 (Conv2D)        (None, 16, 16, 512)       2359808   \n",
            "_________________________________________________________________\n",
            "block4_conv3 (Conv2D)        (None, 16, 16, 512)       2359808   \n",
            "_________________________________________________________________\n",
            "block4_pool (MaxPooling2D)   (None, 8, 8, 512)         0         \n",
            "_________________________________________________________________\n",
            "block5_conv1 (Conv2D)        (None, 8, 8, 512)         2359808   \n",
            "_________________________________________________________________\n",
            "block5_conv2 (Conv2D)        (None, 8, 8, 512)         2359808   \n",
            "_________________________________________________________________\n",
            "block5_conv3 (Conv2D)        (None, 8, 8, 512)         2359808   \n",
            "_________________________________________________________________\n",
            "block5_pool (MaxPooling2D)   (None, 4, 4, 512)         0         \n",
            "=================================================================\n",
            "Total params: 14,714,688\n",
            "Trainable params: 14,714,688\n",
            "Non-trainable params: 0\n",
            "_________________________________________________________________\n"
          ],
          "name": "stdout"
        }
      ]
    },
    {
      "cell_type": "code",
      "metadata": {
        "id": "-l8rz5tGuMf7",
        "colab_type": "code",
        "colab": {}
      },
      "source": [
        "from tqdm import tqdm\n",
        "batch_size = 20\n",
        "def extract_features(datagen, directory, sample_count):\n",
        "  features = np.zeros(shape=(sample_count, 4, 4, 512))\n",
        "  labels = np.zeros(shape=(sample_count,15))\n",
        "  generator = datagen.flow_from_directory( directory,\n",
        "  target_size=(128, 128),\n",
        "  batch_size=batch_size,\n",
        "  class_mode='categorical')\n",
        "  i = 0\n",
        "  for inputs_batch, labels_batch in tqdm(generator):\n",
        "    features_batch = conv_base.predict(inputs_batch)\n",
        "    features[i * batch_size : (i + 1) * batch_size] = features_batch\n",
        "    labels[i * batch_size : (i + 1) * batch_size] = labels_batch\n",
        "    i += 1\n",
        "    if i * batch_size >= sample_count:\n",
        "        break\n",
        "  return features, labels"
      ],
      "execution_count": 0,
      "outputs": []
    },
    {
      "cell_type": "code",
      "metadata": {
        "id": "6jM0OrEQuRyY",
        "colab_type": "code",
        "colab": {}
      },
      "source": [
        "from keras.preprocessing.image import ImageDataGenerator\n",
        "#train_datagen = ImageDataGenerator(rotation_range=40, width_shift_range=0.2, height_shift_range=0.2,\n",
        "#shear_range=0.2, zoom_range=0.2, horizontal_flip=False, fill_mode='nearest', rescale=1./255)\n",
        "#test_datagen = ImageDataGenerator( rescale=1./255)\n",
        "train_datagen = ImageDataGenerator(rescale=1./255)\n",
        "test_datagen = ImageDataGenerator(rescale=1./255)"
      ],
      "execution_count": 0,
      "outputs": []
    },
    {
      "cell_type": "code",
      "metadata": {
        "id": "F_J6rhtzuT_h",
        "colab_type": "code",
        "outputId": "f047ddde-bf87-438b-ec03-2135126e7ea3",
        "colab": {
          "base_uri": "https://localhost:8080/",
          "height": 51
        }
      },
      "source": [
        "train_dir = '/content/PlantVillage/train'\n",
        "train_features, train_labels = extract_features(train_datagen,train_dir,33314)"
      ],
      "execution_count": 0,
      "outputs": [
        {
          "output_type": "stream",
          "text": [
            "\r  0%|          | 0/1666 [00:00<?, ?it/s]"
          ],
          "name": "stderr"
        },
        {
          "output_type": "stream",
          "text": [
            "Found 33314 images belonging to 15 classes.\n"
          ],
          "name": "stdout"
        },
        {
          "output_type": "stream",
          "text": [
            "100%|█████████▉| 1665/1666 [03:08<00:00,  8.96it/s]"
          ],
          "name": "stderr"
        }
      ]
    },
    {
      "cell_type": "code",
      "metadata": {
        "id": "hWdCYC1m13dj",
        "colab_type": "code",
        "colab": {}
      },
      "source": [
        "np.save('trainFeatures',train_features)\n",
        "np.save('trainLabels',train_labels)"
      ],
      "execution_count": 0,
      "outputs": []
    },
    {
      "cell_type": "code",
      "metadata": {
        "id": "303n1GfA156P",
        "colab_type": "code",
        "colab": {}
      },
      "source": [
        "train_features = np.load('trainFeatures.npy')\n",
        "train_labels = np.load('trainLabels.npy')"
      ],
      "execution_count": 0,
      "outputs": []
    },
    {
      "cell_type": "code",
      "metadata": {
        "id": "C7yytuBu2Pf9",
        "colab_type": "code",
        "colab": {}
      },
      "source": [
        "train_features.shape"
      ],
      "execution_count": 0,
      "outputs": []
    },
    {
      "cell_type": "code",
      "metadata": {
        "id": "YfXaYWM12CCm",
        "colab_type": "code",
        "colab": {}
      },
      "source": [
        "train_features = train_features.reshape((33314,4*4*512))"
      ],
      "execution_count": 0,
      "outputs": []
    },
    {
      "cell_type": "code",
      "metadata": {
        "id": "Kj5homnSunDx",
        "colab_type": "code",
        "outputId": "4b653f72-3046-4696-bc1f-b238beb4c03a",
        "colab": {
          "base_uri": "https://localhost:8080/",
          "height": 360
        }
      },
      "source": [
        "from keras import models\n",
        "from keras import layers\n",
        "from keras import optimizers\n",
        "\n",
        "model = Sequential()\n",
        "model.add(layers.Dense(256, activation='relu', input_dim=4 * 4 * 512))\n",
        "model.add(layers.Dense(128, activation='relu'))\n",
        "model.add(layers.Dropout(0.2))\n",
        "model.add(layers.Dense(15, activation='softmax'))\n",
        "model.summary()"
      ],
      "execution_count": 0,
      "outputs": [
        {
          "output_type": "stream",
          "text": [
            "WARNING:tensorflow:From /usr/local/lib/python3.6/dist-packages/keras/backend/tensorflow_backend.py:3733: calling dropout (from tensorflow.python.ops.nn_ops) with keep_prob is deprecated and will be removed in a future version.\n",
            "Instructions for updating:\n",
            "Please use `rate` instead of `keep_prob`. Rate should be set to `rate = 1 - keep_prob`.\n",
            "Model: \"sequential_1\"\n",
            "_________________________________________________________________\n",
            "Layer (type)                 Output Shape              Param #   \n",
            "=================================================================\n",
            "dense_1 (Dense)              (None, 256)               2097408   \n",
            "_________________________________________________________________\n",
            "dense_2 (Dense)              (None, 128)               32896     \n",
            "_________________________________________________________________\n",
            "dropout_1 (Dropout)          (None, 128)               0         \n",
            "_________________________________________________________________\n",
            "dense_3 (Dense)              (None, 15)                1935      \n",
            "=================================================================\n",
            "Total params: 2,132,239\n",
            "Trainable params: 2,132,239\n",
            "Non-trainable params: 0\n",
            "_________________________________________________________________\n"
          ],
          "name": "stdout"
        }
      ]
    },
    {
      "cell_type": "code",
      "metadata": {
        "id": "b6yRdnDk1BXp",
        "colab_type": "code",
        "outputId": "667f5d02-aac6-43ba-e536-7493b5564a8e",
        "colab": {
          "base_uri": "https://localhost:8080/",
          "height": 71
        }
      },
      "source": [
        "model.compile(loss=\"categorical_crossentropy\", optimizer=\"Adagrad\", metrics=[\"accuracy\"])"
      ],
      "execution_count": 0,
      "outputs": [
        {
          "output_type": "stream",
          "text": [
            "WARNING:tensorflow:From /usr/local/lib/python3.6/dist-packages/keras/optimizers.py:793: The name tf.train.Optimizer is deprecated. Please use tf.compat.v1.train.Optimizer instead.\n",
            "\n"
          ],
          "name": "stdout"
        }
      ]
    },
    {
      "cell_type": "code",
      "metadata": {
        "id": "led0aIDP32QT",
        "colab_type": "code",
        "outputId": "932a6c7f-751c-4893-b1c9-2003eb5fdde4",
        "colab": {
          "base_uri": "https://localhost:8080/",
          "height": 615
        }
      },
      "source": [
        "\n",
        "history = model.fit(train_features, train_labels, epochs = 15, batch_size=32,  validation_split=0.2)"
      ],
      "execution_count": 0,
      "outputs": [
        {
          "output_type": "stream",
          "text": [
            "WARNING:tensorflow:From /usr/local/lib/python3.6/dist-packages/tensorflow/python/ops/math_grad.py:1250: add_dispatch_support.<locals>.wrapper (from tensorflow.python.ops.array_ops) is deprecated and will be removed in a future version.\n",
            "Instructions for updating:\n",
            "Use tf.where in 2.0, which has the same broadcast rule as np.where\n",
            "Train on 26651 samples, validate on 6663 samples\n",
            "Epoch 1/15\n",
            "26651/26651 [==============================] - 8s 307us/step - loss: 1.2942 - acc: 0.7056 - val_loss: 0.5302 - val_acc: 0.8163\n",
            "Epoch 2/15\n",
            "26651/26651 [==============================] - 7s 265us/step - loss: 0.4531 - acc: 0.8459 - val_loss: 0.4034 - val_acc: 0.8607\n",
            "Epoch 3/15\n",
            "26651/26651 [==============================] - 8s 300us/step - loss: 0.3530 - acc: 0.8813 - val_loss: 0.3835 - val_acc: 0.8705\n",
            "Epoch 4/15\n",
            "26651/26651 [==============================] - 8s 293us/step - loss: 0.2931 - acc: 0.9018 - val_loss: 0.3624 - val_acc: 0.8756\n",
            "Epoch 5/15\n",
            "26651/26651 [==============================] - 8s 282us/step - loss: 0.2535 - acc: 0.9166 - val_loss: 0.3317 - val_acc: 0.8886\n",
            "Epoch 6/15\n",
            "26651/26651 [==============================] - 7s 253us/step - loss: 0.2194 - acc: 0.9270 - val_loss: 0.3161 - val_acc: 0.8939\n",
            "Epoch 7/15\n",
            "26651/26651 [==============================] - 8s 288us/step - loss: 0.1924 - acc: 0.9390 - val_loss: 0.3017 - val_acc: 0.8978\n",
            "Epoch 8/15\n",
            "26651/26651 [==============================] - 8s 306us/step - loss: 0.1693 - acc: 0.9456 - val_loss: 0.3068 - val_acc: 0.8954\n",
            "Epoch 9/15\n",
            "26651/26651 [==============================] - 8s 314us/step - loss: 0.1517 - acc: 0.9526 - val_loss: 0.2979 - val_acc: 0.8990\n",
            "Epoch 10/15\n",
            "26651/26651 [==============================] - 9s 322us/step - loss: 0.1340 - acc: 0.9593 - val_loss: 0.2961 - val_acc: 0.9012\n",
            "Epoch 11/15\n",
            "26651/26651 [==============================] - 9s 319us/step - loss: 0.1207 - acc: 0.9640 - val_loss: 0.3132 - val_acc: 0.8961\n",
            "Epoch 12/15\n",
            "26651/26651 [==============================] - 9s 330us/step - loss: 0.1088 - acc: 0.9675 - val_loss: 0.2952 - val_acc: 0.9035\n",
            "Epoch 13/15\n",
            "26651/26651 [==============================] - 9s 327us/step - loss: 0.0974 - acc: 0.9719 - val_loss: 0.2886 - val_acc: 0.9069\n",
            "Epoch 14/15\n",
            "26651/26651 [==============================] - 9s 327us/step - loss: 0.0875 - acc: 0.9752 - val_loss: 0.2964 - val_acc: 0.9078\n",
            "Epoch 15/15\n",
            "26651/26651 [==============================] - 8s 302us/step - loss: 0.0782 - acc: 0.9786 - val_loss: 0.2804 - val_acc: 0.9089\n"
          ],
          "name": "stdout"
        }
      ]
    },
    {
      "cell_type": "code",
      "metadata": {
        "id": "sOX36EC9PtfS",
        "colab_type": "code",
        "outputId": "02a81bac-95cb-4356-88c1-7901164142d3",
        "colab": {
          "base_uri": "https://localhost:8080/",
          "height": 545
        }
      },
      "source": [
        "acc = history.history['acc']\n",
        "val_acc = history.history['val_acc']\n",
        "loss = history.history['loss']\n",
        "val_loss = history.history['val_loss']\n",
        "epochs = range(1, len(acc) + 1)\n",
        "#Train and validation accuracy\n",
        "plt.plot(epochs, acc, 'b', label='Training accurarcy')\n",
        "plt.plot(epochs, val_acc, 'r', label='Validation accurarcy')\n",
        "plt.title('Training and Validation accurarcy')\n",
        "plt.legend()\n",
        "\n",
        "plt.figure()\n",
        "#Train and validation loss\n",
        "plt.plot(epochs, loss, 'b', label='Training loss')\n",
        "plt.plot(epochs, val_loss, 'r', label='Validation loss')\n",
        "plt.title('Training and Validation loss')\n",
        "plt.legend()\n",
        "plt.show()"
      ],
      "execution_count": 0,
      "outputs": [
        {
          "output_type": "display_data",
          "data": {
            "image/png": "[encoded data removed]",
            "text/plain": [
              "<Figure size 432x288 with 1 Axes>"
            ]
          },
          "metadata": {
            "tags": []
          }
        },
        {
          "output_type": "display_data",
          "data": {
            "image/png": "[encoded data removed]",
            "text/plain": [
              "<Figure size 432x288 with 1 Axes>"
            ]
          },
          "metadata": {
            "tags": []
          }
        }
      ]
    },
    {
      "cell_type": "code",
      "metadata": {
        "id": "5iJk5TRS39xK",
        "colab_type": "code",
        "outputId": "e39928fa-3387-4d83-a462-24a5248210ee",
        "colab": {
          "base_uri": "https://localhost:8080/",
          "height": 1000
        }
      },
      "source": [
        "train_dir = '/content/PlantVillage/val'\n",
        "test_features, test_labels = extract_features(test_datagen,train_dir,13028)"
      ],
      "execution_count": 0,
      "outputs": [
        {
          "output_type": "stream",
          "text": [
            "\n",
            "  0%|          | 0/652 [00:00<?, ?it/s]\u001b[A"
          ],
          "name": "stderr"
        },
        {
          "output_type": "stream",
          "text": [
            "Found 13028 images belonging to 15 classes.\n"
          ],
          "name": "stdout"
        },
        {
          "output_type": "stream",
          "text": [
            "\n",
            "  0%|          | 1/652 [00:00<01:31,  7.14it/s]\u001b[A\n",
            "  0%|          | 2/652 [00:00<01:30,  7.20it/s]\u001b[A\n",
            "  0%|          | 3/652 [00:00<01:28,  7.35it/s]\u001b[A\n",
            "  1%|          | 4/652 [00:00<01:26,  7.53it/s]\u001b[A\n",
            "  1%|          | 5/652 [00:00<01:24,  7.67it/s]\u001b[A\n",
            "  1%|          | 6/652 [00:00<01:22,  7.85it/s]\u001b[A\n",
            "  1%|          | 7/652 [00:00<01:21,  7.90it/s]\u001b[A\n",
            "  1%|          | 8/652 [00:01<01:19,  8.13it/s]\u001b[A\n",
            "  1%|▏         | 9/652 [00:01<01:17,  8.32it/s]\u001b[A\n",
            "  2%|▏         | 10/652 [00:01<01:15,  8.52it/s]\u001b[A\n",
            "  2%|▏         | 11/652 [00:01<01:14,  8.60it/s]\u001b[A\n",
            "  2%|▏         | 12/652 [00:01<01:14,  8.61it/s]\u001b[A\n",
            "  2%|▏         | 13/652 [00:01<01:14,  8.60it/s]\u001b[A\n",
            "  2%|▏         | 14/652 [00:01<01:15,  8.44it/s]\u001b[A\n",
            "  2%|▏         | 15/652 [00:01<01:14,  8.56it/s]\u001b[A\n",
            "  2%|▏         | 16/652 [00:01<01:15,  8.46it/s]\u001b[A\n",
            "  3%|▎         | 17/652 [00:02<01:14,  8.56it/s]\u001b[A\n",
            "  3%|▎         | 18/652 [00:02<01:13,  8.65it/s]\u001b[A\n",
            "  3%|▎         | 19/652 [00:02<01:13,  8.56it/s]\u001b[A\n",
            "  3%|▎         | 20/652 [00:02<01:13,  8.61it/s]\u001b[A\n",
            "  3%|▎         | 21/652 [00:02<01:12,  8.65it/s]\u001b[A\n",
            "  3%|▎         | 22/652 [00:02<01:13,  8.62it/s]\u001b[A\n",
            "  4%|▎         | 23/652 [00:02<01:12,  8.70it/s]\u001b[A\n",
            "  4%|▎         | 24/652 [00:02<01:13,  8.53it/s]\u001b[A\n",
            "  4%|▍         | 25/652 [00:02<01:13,  8.52it/s]\u001b[A\n",
            "  4%|▍         | 26/652 [00:03<01:12,  8.58it/s]\u001b[A\n",
            "  4%|▍         | 27/652 [00:03<01:12,  8.64it/s]\u001b[A\n",
            "  4%|▍         | 28/652 [00:03<01:11,  8.69it/s]\u001b[A\n",
            "  4%|▍         | 29/652 [00:03<01:12,  8.64it/s]\u001b[A\n",
            "  5%|▍         | 30/652 [00:03<01:12,  8.57it/s]\u001b[A\n",
            "  5%|▍         | 31/652 [00:03<01:12,  8.57it/s]\u001b[A\n",
            "  5%|▍         | 32/652 [00:03<01:13,  8.44it/s]\u001b[A\n",
            "  5%|▌         | 33/652 [00:03<01:12,  8.52it/s]\u001b[A\n",
            "  5%|▌         | 34/652 [00:04<01:13,  8.44it/s]\u001b[A\n",
            "  5%|▌         | 35/652 [00:04<01:11,  8.59it/s]\u001b[A\n",
            "  6%|▌         | 36/652 [00:04<01:10,  8.72it/s]\u001b[A\n",
            "  6%|▌         | 37/652 [00:04<01:11,  8.64it/s]\u001b[A\n",
            "  6%|▌         | 38/652 [00:04<01:10,  8.66it/s]\u001b[A\n",
            "  6%|▌         | 39/652 [00:04<01:11,  8.58it/s]\u001b[A\n",
            "  6%|▌         | 40/652 [00:04<01:11,  8.53it/s]\u001b[A\n",
            "  6%|▋         | 41/652 [00:04<01:11,  8.58it/s]\u001b[A\n",
            "  6%|▋         | 42/652 [00:04<01:10,  8.66it/s]\u001b[A\n",
            "  7%|▋         | 43/652 [00:05<01:11,  8.54it/s]\u001b[A\n",
            "  7%|▋         | 44/652 [00:05<01:10,  8.57it/s]\u001b[A\n",
            "  7%|▋         | 45/652 [00:05<01:10,  8.61it/s]\u001b[A\n",
            "  7%|▋         | 46/652 [00:05<01:09,  8.69it/s]\u001b[A\n",
            "  7%|▋         | 47/652 [00:05<01:09,  8.76it/s]\u001b[A\n",
            "  7%|▋         | 48/652 [00:05<01:08,  8.79it/s]\u001b[A\n",
            "  8%|▊         | 49/652 [00:05<01:08,  8.86it/s]\u001b[A\n",
            "  8%|▊         | 50/652 [00:05<01:08,  8.84it/s]\u001b[A\n",
            "  8%|▊         | 51/652 [00:05<01:08,  8.76it/s]\u001b[A\n",
            "  8%|▊         | 52/652 [00:06<01:10,  8.55it/s]\u001b[A\n",
            "  8%|▊         | 53/652 [00:06<01:11,  8.39it/s]\u001b[A\n",
            "  8%|▊         | 54/652 [00:06<01:10,  8.50it/s]\u001b[A\n",
            "  8%|▊         | 55/652 [00:06<01:09,  8.62it/s]\u001b[A\n",
            "  9%|▊         | 56/652 [00:06<01:08,  8.66it/s]\u001b[A\n",
            "  9%|▊         | 57/652 [00:06<01:09,  8.58it/s]\u001b[A\n",
            "  9%|▉         | 58/652 [00:06<01:08,  8.62it/s]\u001b[A\n",
            "  9%|▉         | 59/652 [00:06<01:08,  8.66it/s]\u001b[A\n",
            "  9%|▉         | 60/652 [00:07<01:07,  8.73it/s]\u001b[A\n",
            "  9%|▉         | 61/652 [00:07<01:07,  8.82it/s]\u001b[A\n",
            " 10%|▉         | 62/652 [00:07<01:06,  8.82it/s]\u001b[A\n",
            " 10%|▉         | 63/652 [00:07<01:06,  8.88it/s]\u001b[A\n",
            " 10%|▉         | 64/652 [00:07<01:06,  8.82it/s]\u001b[A\n",
            " 10%|▉         | 65/652 [00:07<01:07,  8.71it/s]\u001b[A\n",
            " 10%|█         | 66/652 [00:07<01:08,  8.61it/s]\u001b[A\n",
            " 10%|█         | 67/652 [00:07<01:07,  8.63it/s]\u001b[A\n",
            " 10%|█         | 68/652 [00:07<01:07,  8.66it/s]\u001b[A\n",
            " 11%|█         | 69/652 [00:08<01:07,  8.61it/s]\u001b[A\n",
            " 11%|█         | 70/652 [00:08<01:06,  8.72it/s]\u001b[A\n",
            " 11%|█         | 71/652 [00:08<01:06,  8.71it/s]\u001b[A\n",
            " 11%|█         | 72/652 [00:08<01:06,  8.71it/s]\u001b[A\n",
            " 11%|█         | 73/652 [00:08<01:06,  8.65it/s]\u001b[A\n",
            " 11%|█▏        | 74/652 [00:08<01:06,  8.63it/s]\u001b[A\n",
            " 12%|█▏        | 75/652 [00:08<01:07,  8.57it/s]\u001b[A\n",
            " 12%|█▏        | 76/652 [00:08<01:06,  8.63it/s]\u001b[A\n",
            " 12%|█▏        | 77/652 [00:08<01:06,  8.69it/s]\u001b[A\n",
            " 12%|█▏        | 78/652 [00:09<01:07,  8.53it/s]\u001b[A\n",
            " 12%|█▏        | 79/652 [00:09<01:06,  8.56it/s]\u001b[A\n",
            " 12%|█▏        | 80/652 [00:09<01:06,  8.57it/s]\u001b[A\n",
            " 12%|█▏        | 81/652 [00:09<01:07,  8.46it/s]\u001b[A\n",
            " 13%|█▎        | 82/652 [00:09<01:10,  8.11it/s]\u001b[A\n",
            " 13%|█▎        | 83/652 [00:09<01:09,  8.19it/s]\u001b[A\n",
            " 13%|█▎        | 84/652 [00:09<01:08,  8.31it/s]\u001b[A\n",
            " 13%|█▎        | 85/652 [00:09<01:07,  8.43it/s]\u001b[A\n",
            " 13%|█▎        | 86/652 [00:10<01:06,  8.52it/s]\u001b[A\n",
            " 13%|█▎        | 87/652 [00:10<01:06,  8.55it/s]\u001b[A\n",
            " 13%|█▎        | 88/652 [00:10<01:05,  8.56it/s]\u001b[A\n",
            " 14%|█▎        | 89/652 [00:10<01:06,  8.48it/s]\u001b[A\n",
            " 14%|█▍        | 90/652 [00:10<01:06,  8.50it/s]\u001b[A\n",
            " 14%|█▍        | 91/652 [00:10<01:05,  8.59it/s]\u001b[A\n",
            " 14%|█▍        | 92/652 [00:10<01:05,  8.57it/s]\u001b[A\n",
            " 14%|█▍        | 93/652 [00:10<01:04,  8.68it/s]\u001b[A\n",
            " 14%|█▍        | 94/652 [00:11<01:04,  8.60it/s]\u001b[A\n",
            " 15%|█▍        | 95/652 [00:11<01:05,  8.55it/s]\u001b[A\n",
            " 15%|█▍        | 96/652 [00:11<01:06,  8.36it/s]\u001b[A\n",
            " 15%|█▍        | 97/652 [00:11<01:05,  8.50it/s]\u001b[A\n",
            " 15%|█▌        | 98/652 [00:11<01:04,  8.59it/s]\u001b[A\n",
            " 15%|█▌        | 99/652 [00:11<01:03,  8.68it/s]\u001b[A\n",
            " 15%|█▌        | 100/652 [00:11<01:03,  8.73it/s]\u001b[A\n",
            " 15%|█▌        | 101/652 [00:11<01:04,  8.58it/s]\u001b[A\n",
            " 16%|█▌        | 102/652 [00:11<01:03,  8.65it/s]\u001b[A\n",
            " 16%|█▌        | 103/652 [00:12<01:02,  8.73it/s]\u001b[A\n",
            " 16%|█▌        | 104/652 [00:12<01:02,  8.78it/s]\u001b[A\n",
            " 16%|█▌        | 105/652 [00:12<01:02,  8.75it/s]\u001b[A\n",
            " 16%|█▋        | 106/652 [00:12<01:01,  8.82it/s]\u001b[A\n",
            " 16%|█▋        | 107/652 [00:12<01:01,  8.86it/s]\u001b[A\n",
            " 17%|█▋        | 108/652 [00:12<01:02,  8.74it/s]\u001b[A\n",
            " 17%|█▋        | 109/652 [00:12<01:03,  8.54it/s]\u001b[A\n",
            " 17%|█▋        | 110/652 [00:12<01:03,  8.49it/s]\u001b[A\n",
            " 17%|█▋        | 111/652 [00:12<01:03,  8.56it/s]\u001b[A\n",
            " 17%|█▋        | 112/652 [00:13<01:02,  8.58it/s]\u001b[A\n",
            " 17%|█▋        | 113/652 [00:13<01:02,  8.69it/s]\u001b[A\n",
            " 17%|█▋        | 114/652 [00:13<01:01,  8.73it/s]\u001b[A\n",
            " 18%|█▊        | 115/652 [00:13<01:01,  8.74it/s]\u001b[A\n",
            " 18%|█▊        | 116/652 [00:13<01:01,  8.75it/s]\u001b[A\n",
            " 18%|█▊        | 117/652 [00:13<01:01,  8.69it/s]\u001b[A\n",
            " 18%|█▊        | 118/652 [00:13<01:01,  8.71it/s]\u001b[A\n",
            " 18%|█▊        | 119/652 [00:13<01:00,  8.78it/s]\u001b[A\n",
            " 18%|█▊        | 120/652 [00:14<01:00,  8.76it/s]\u001b[A\n",
            " 19%|█▊        | 121/652 [00:14<01:00,  8.82it/s]\u001b[A\n",
            " 19%|█▊        | 122/652 [00:14<01:00,  8.72it/s]\u001b[A\n",
            " 19%|█▉        | 123/652 [00:14<01:01,  8.62it/s]\u001b[A\n",
            " 19%|█▉        | 124/652 [00:14<01:02,  8.47it/s]\u001b[A\n",
            " 19%|█▉        | 125/652 [00:14<01:01,  8.56it/s]\u001b[A\n",
            " 19%|█▉        | 126/652 [00:14<01:00,  8.69it/s]\u001b[A\n",
            " 19%|█▉        | 127/652 [00:14<01:00,  8.70it/s]\u001b[A\n",
            " 20%|█▉        | 128/652 [00:14<01:00,  8.70it/s]\u001b[A\n",
            " 20%|█▉        | 129/652 [00:15<01:00,  8.65it/s]\u001b[A\n",
            " 20%|█▉        | 130/652 [00:15<00:59,  8.71it/s]\u001b[A\n",
            " 20%|██        | 131/652 [00:15<00:59,  8.73it/s]\u001b[A\n",
            " 20%|██        | 132/652 [00:15<00:59,  8.76it/s]\u001b[A\n",
            " 20%|██        | 133/652 [00:15<00:58,  8.82it/s]\u001b[A\n",
            " 21%|██        | 134/652 [00:15<00:59,  8.67it/s]\u001b[A\n",
            " 21%|██        | 135/652 [00:15<01:00,  8.58it/s]\u001b[A\n",
            " 21%|██        | 136/652 [00:15<00:59,  8.68it/s]\u001b[A\n",
            " 21%|██        | 137/652 [00:15<00:58,  8.74it/s]\u001b[A\n",
            " 21%|██        | 138/652 [00:16<00:58,  8.72it/s]\u001b[A\n",
            " 21%|██▏       | 139/652 [00:16<00:58,  8.78it/s]\u001b[A\n",
            " 21%|██▏       | 140/652 [00:16<00:57,  8.86it/s]\u001b[A\n",
            " 22%|██▏       | 141/652 [00:16<00:57,  8.84it/s]\u001b[A\n",
            " 22%|██▏       | 142/652 [00:16<00:57,  8.95it/s]\u001b[A\n",
            " 22%|██▏       | 143/652 [00:16<00:58,  8.77it/s]\u001b[A\n",
            " 22%|██▏       | 144/652 [00:16<00:57,  8.77it/s]\u001b[A\n",
            " 22%|██▏       | 145/652 [00:16<00:58,  8.68it/s]\u001b[A\n",
            " 22%|██▏       | 146/652 [00:16<00:58,  8.66it/s]\u001b[A\n",
            " 23%|██▎       | 147/652 [00:17<00:57,  8.76it/s]\u001b[A\n",
            " 23%|██▎       | 148/652 [00:17<00:57,  8.82it/s]\u001b[A\n",
            " 23%|██▎       | 149/652 [00:17<00:56,  8.89it/s]\u001b[A\n",
            " 23%|██▎       | 150/652 [00:17<00:56,  8.86it/s]\u001b[A\n",
            " 23%|██▎       | 151/652 [00:17<00:57,  8.76it/s]\u001b[A\n",
            " 23%|██▎       | 152/652 [00:17<00:57,  8.74it/s]\u001b[A\n",
            " 23%|██▎       | 153/652 [00:17<00:57,  8.67it/s]\u001b[A\n",
            " 24%|██▎       | 154/652 [00:17<00:57,  8.66it/s]\u001b[A\n",
            " 24%|██▍       | 155/652 [00:18<00:56,  8.74it/s]\u001b[A\n",
            " 24%|██▍       | 156/652 [00:18<00:56,  8.83it/s]\u001b[A\n",
            " 24%|██▍       | 157/652 [00:18<00:57,  8.63it/s]\u001b[A\n",
            " 24%|██▍       | 158/652 [00:18<00:57,  8.64it/s]\u001b[A\n",
            " 24%|██▍       | 159/652 [00:18<00:58,  8.39it/s]\u001b[A\n",
            " 25%|██▍       | 160/652 [00:18<00:57,  8.56it/s]\u001b[A\n",
            " 25%|██▍       | 161/652 [00:18<00:56,  8.71it/s]\u001b[A\n",
            " 25%|██▍       | 162/652 [00:18<00:56,  8.64it/s]\u001b[A\n",
            " 25%|██▌       | 163/652 [00:18<00:56,  8.69it/s]\u001b[A\n",
            " 25%|██▌       | 164/652 [00:19<00:56,  8.68it/s]\u001b[A\n",
            " 25%|██▌       | 165/652 [00:19<00:55,  8.72it/s]\u001b[A\n",
            " 25%|██▌       | 166/652 [00:19<00:55,  8.77it/s]\u001b[A\n",
            " 26%|██▌       | 167/652 [00:19<00:56,  8.64it/s]\u001b[A\n",
            " 26%|██▌       | 168/652 [00:19<00:56,  8.57it/s]\u001b[A\n",
            " 26%|██▌       | 169/652 [00:19<00:55,  8.66it/s]\u001b[A\n",
            " 26%|██▌       | 170/652 [00:19<00:56,  8.52it/s]\u001b[A\n",
            " 26%|██▌       | 171/652 [00:19<00:55,  8.61it/s]\u001b[A\n",
            " 26%|██▋       | 172/652 [00:19<00:56,  8.56it/s]\u001b[A\n",
            " 27%|██▋       | 173/652 [00:20<00:55,  8.64it/s]\u001b[A\n",
            " 27%|██▋       | 174/652 [00:20<00:55,  8.67it/s]\u001b[A\n",
            " 27%|██▋       | 175/652 [00:20<00:54,  8.68it/s]\u001b[A\n",
            " 27%|██▋       | 176/652 [00:20<00:54,  8.74it/s]\u001b[A\n",
            " 27%|██▋       | 177/652 [00:20<00:54,  8.77it/s]\u001b[A\n",
            " 27%|██▋       | 178/652 [00:20<00:54,  8.74it/s]\u001b[A\n",
            " 27%|██▋       | 179/652 [00:20<00:54,  8.71it/s]\u001b[A\n",
            " 28%|██▊       | 180/652 [00:20<00:55,  8.58it/s]\u001b[A\n",
            " 28%|██▊       | 181/652 [00:21<00:54,  8.57it/s]\u001b[A\n",
            " 28%|██▊       | 182/652 [00:21<00:53,  8.76it/s]\u001b[A\n",
            " 28%|██▊       | 183/652 [00:21<00:53,  8.82it/s]\u001b[A\n",
            " 28%|██▊       | 184/652 [00:21<00:53,  8.72it/s]\u001b[A\n",
            " 28%|██▊       | 185/652 [00:21<00:55,  8.48it/s]\u001b[A\n",
            " 29%|██▊       | 186/652 [00:21<00:54,  8.49it/s]\u001b[A\n",
            " 29%|██▊       | 187/652 [00:21<00:54,  8.54it/s]\u001b[A\n",
            " 29%|██▉       | 188/652 [00:21<00:54,  8.57it/s]\u001b[A\n",
            " 29%|██▉       | 189/652 [00:21<00:53,  8.66it/s]\u001b[A\n",
            " 29%|██▉       | 190/652 [00:22<00:53,  8.63it/s]\u001b[A\n",
            " 29%|██▉       | 191/652 [00:22<00:53,  8.68it/s]\u001b[A\n",
            " 29%|██▉       | 192/652 [00:22<00:52,  8.70it/s]\u001b[A\n",
            " 30%|██▉       | 193/652 [00:22<00:52,  8.72it/s]\u001b[A\n",
            " 30%|██▉       | 194/652 [00:22<00:52,  8.66it/s]\u001b[A\n",
            " 30%|██▉       | 195/652 [00:22<00:52,  8.75it/s]\u001b[A\n",
            " 30%|███       | 196/652 [00:22<00:51,  8.79it/s]\u001b[A\n",
            " 30%|███       | 197/652 [00:22<00:52,  8.64it/s]\u001b[A\n",
            " 30%|███       | 198/652 [00:22<00:52,  8.62it/s]\u001b[A\n",
            " 31%|███       | 199/652 [00:23<00:52,  8.62it/s]\u001b[A\n",
            " 31%|███       | 200/652 [00:23<00:52,  8.69it/s]\u001b[A\n",
            " 31%|███       | 201/652 [00:23<00:51,  8.69it/s]\u001b[A\n",
            " 31%|███       | 202/652 [00:23<00:52,  8.62it/s]\u001b[A\n",
            " 31%|███       | 203/652 [00:23<00:52,  8.62it/s]\u001b[A\n",
            " 31%|███▏      | 204/652 [00:23<00:51,  8.62it/s]\u001b[A\n",
            " 31%|███▏      | 205/652 [00:23<00:51,  8.61it/s]\u001b[A\n",
            " 32%|███▏      | 206/652 [00:23<00:51,  8.61it/s]\u001b[A\n",
            " 32%|███▏      | 207/652 [00:24<00:51,  8.71it/s]\u001b[A\n",
            " 32%|███▏      | 208/652 [00:24<00:50,  8.82it/s]\u001b[A\n",
            " 32%|███▏      | 209/652 [00:24<00:50,  8.82it/s]\u001b[A\n",
            " 32%|███▏      | 210/652 [00:24<00:49,  8.90it/s]\u001b[A\n",
            " 32%|███▏      | 211/652 [00:24<00:50,  8.76it/s]\u001b[A\n",
            " 33%|███▎      | 212/652 [00:24<00:51,  8.52it/s]\u001b[A\n",
            " 33%|███▎      | 213/652 [00:24<00:51,  8.45it/s]\u001b[A\n",
            " 33%|███▎      | 214/652 [00:24<00:51,  8.58it/s]\u001b[A\n",
            " 33%|███▎      | 215/652 [00:24<00:50,  8.62it/s]\u001b[A\n",
            " 33%|███▎      | 216/652 [00:25<00:49,  8.81it/s]\u001b[A\n",
            " 33%|███▎      | 217/652 [00:25<00:49,  8.77it/s]\u001b[A\n",
            " 33%|███▎      | 218/652 [00:25<00:49,  8.76it/s]\u001b[A\n",
            " 34%|███▎      | 219/652 [00:25<00:49,  8.78it/s]\u001b[A\n",
            " 34%|███▎      | 220/652 [00:25<00:49,  8.76it/s]\u001b[A\n",
            " 34%|███▍      | 221/652 [00:25<00:49,  8.64it/s]\u001b[A\n",
            " 34%|███▍      | 222/652 [00:25<00:49,  8.69it/s]\u001b[A\n",
            " 34%|███▍      | 223/652 [00:25<00:49,  8.73it/s]\u001b[A\n",
            " 34%|███▍      | 224/652 [00:25<00:48,  8.75it/s]\u001b[A\n",
            " 35%|███▍      | 225/652 [00:26<00:49,  8.70it/s]\u001b[A\n",
            " 35%|███▍      | 226/652 [00:26<00:48,  8.71it/s]\u001b[A\n",
            " 35%|███▍      | 227/652 [00:26<00:49,  8.63it/s]\u001b[A\n",
            " 35%|███▍      | 228/652 [00:26<00:48,  8.69it/s]\u001b[A\n",
            " 35%|███▌      | 229/652 [00:26<00:48,  8.70it/s]\u001b[A\n",
            " 35%|███▌      | 230/652 [00:26<00:48,  8.74it/s]\u001b[A\n",
            " 35%|███▌      | 231/652 [00:26<00:48,  8.75it/s]\u001b[A\n",
            " 36%|███▌      | 232/652 [00:26<00:48,  8.71it/s]\u001b[A\n",
            " 36%|███▌      | 233/652 [00:27<00:47,  8.75it/s]\u001b[A\n",
            " 36%|███▌      | 234/652 [00:27<00:47,  8.80it/s]\u001b[A\n",
            " 36%|███▌      | 235/652 [00:27<00:47,  8.84it/s]\u001b[A\n",
            " 36%|███▌      | 236/652 [00:27<00:46,  8.85it/s]\u001b[A\n",
            " 36%|███▋      | 237/652 [00:27<00:47,  8.78it/s]\u001b[A\n",
            " 37%|███▋      | 238/652 [00:27<00:46,  8.83it/s]\u001b[A\n",
            " 37%|███▋      | 239/652 [00:27<00:47,  8.73it/s]\u001b[A\n",
            " 37%|███▋      | 240/652 [00:27<00:47,  8.66it/s]\u001b[A\n",
            " 37%|███▋      | 241/652 [00:27<00:47,  8.63it/s]\u001b[A\n",
            " 37%|███▋      | 242/652 [00:28<00:47,  8.63it/s]\u001b[A\n",
            " 37%|███▋      | 243/652 [00:28<00:46,  8.76it/s]\u001b[A\n",
            " 37%|███▋      | 244/652 [00:28<00:46,  8.78it/s]\u001b[A\n",
            " 38%|███▊      | 245/652 [00:28<00:45,  8.87it/s]\u001b[A\n",
            " 38%|███▊      | 246/652 [00:28<00:46,  8.83it/s]\u001b[A\n",
            " 38%|███▊      | 247/652 [00:28<00:46,  8.68it/s]\u001b[A\n",
            " 38%|███▊      | 248/652 [00:28<00:46,  8.72it/s]\u001b[A\n",
            " 38%|███▊      | 249/652 [00:28<00:46,  8.72it/s]\u001b[A\n",
            " 38%|███▊      | 250/652 [00:28<00:46,  8.66it/s]\u001b[A\n",
            " 38%|███▊      | 251/652 [00:29<00:46,  8.71it/s]\u001b[A\n",
            " 39%|███▊      | 252/652 [00:29<00:45,  8.76it/s]\u001b[A\n",
            " 39%|███▉      | 253/652 [00:29<00:45,  8.72it/s]\u001b[A\n",
            " 39%|███▉      | 254/652 [00:29<00:45,  8.66it/s]\u001b[A\n",
            " 39%|███▉      | 255/652 [00:29<00:45,  8.70it/s]\u001b[A\n",
            " 39%|███▉      | 256/652 [00:29<00:45,  8.62it/s]\u001b[A\n",
            " 39%|███▉      | 257/652 [00:29<00:45,  8.73it/s]\u001b[A\n",
            " 40%|███▉      | 258/652 [00:29<00:45,  8.68it/s]\u001b[A\n",
            " 40%|███▉      | 259/652 [00:29<00:44,  8.80it/s]\u001b[A\n",
            " 40%|███▉      | 260/652 [00:30<00:44,  8.77it/s]\u001b[A\n",
            " 40%|████      | 261/652 [00:30<00:45,  8.68it/s]\u001b[A\n",
            " 40%|████      | 262/652 [00:30<00:44,  8.69it/s]\u001b[A\n",
            " 40%|████      | 263/652 [00:30<00:44,  8.65it/s]\u001b[A\n",
            " 40%|████      | 264/652 [00:30<00:44,  8.70it/s]\u001b[A\n",
            " 41%|████      | 265/652 [00:30<00:44,  8.75it/s]\u001b[A\n",
            " 41%|████      | 266/652 [00:30<00:43,  8.80it/s]\u001b[A\n",
            " 41%|████      | 267/652 [00:30<00:43,  8.77it/s]\u001b[A\n",
            " 41%|████      | 268/652 [00:31<00:43,  8.76it/s]\u001b[A\n",
            " 41%|████▏     | 269/652 [00:31<00:43,  8.81it/s]\u001b[A\n",
            " 41%|████▏     | 270/652 [00:31<00:43,  8.81it/s]\u001b[A\n",
            " 42%|████▏     | 271/652 [00:31<00:43,  8.78it/s]\u001b[A\n",
            " 42%|████▏     | 272/652 [00:31<00:42,  8.85it/s]\u001b[A\n",
            " 42%|████▏     | 273/652 [00:31<00:42,  8.82it/s]\u001b[A\n",
            " 42%|████▏     | 274/652 [00:31<00:42,  8.87it/s]\u001b[A\n",
            " 42%|████▏     | 275/652 [00:31<00:44,  8.40it/s]\u001b[A\n",
            " 42%|████▏     | 276/652 [00:31<00:44,  8.50it/s]\u001b[A\n",
            " 42%|████▏     | 277/652 [00:32<00:43,  8.58it/s]\u001b[A\n",
            " 43%|████▎     | 278/652 [00:32<00:43,  8.61it/s]\u001b[A\n",
            " 43%|████▎     | 279/652 [00:32<00:42,  8.73it/s]\u001b[A\n",
            " 43%|████▎     | 280/652 [00:32<00:42,  8.85it/s]\u001b[A\n",
            " 43%|████▎     | 281/652 [00:32<00:41,  8.88it/s]\u001b[A\n",
            " 43%|████▎     | 282/652 [00:32<00:42,  8.79it/s]\u001b[A\n",
            " 43%|████▎     | 283/652 [00:32<00:42,  8.70it/s]\u001b[A\n",
            " 44%|████▎     | 284/652 [00:32<00:42,  8.65it/s]\u001b[A\n",
            " 44%|████▎     | 285/652 [00:32<00:42,  8.73it/s]\u001b[A\n",
            " 44%|████▍     | 286/652 [00:33<00:41,  8.80it/s]\u001b[A\n",
            " 44%|████▍     | 287/652 [00:33<00:40,  8.91it/s]\u001b[A\n",
            " 44%|████▍     | 288/652 [00:33<00:40,  8.99it/s]\u001b[A\n",
            " 44%|████▍     | 289/652 [00:33<00:41,  8.85it/s]\u001b[A\n",
            " 44%|████▍     | 290/652 [00:33<00:41,  8.74it/s]\u001b[A\n",
            " 45%|████▍     | 291/652 [00:33<00:41,  8.61it/s]\u001b[A\n",
            " 45%|████▍     | 292/652 [00:33<00:42,  8.51it/s]\u001b[A\n",
            " 45%|████▍     | 293/652 [00:33<00:41,  8.64it/s]\u001b[A\n",
            " 45%|████▌     | 294/652 [00:33<00:40,  8.79it/s]\u001b[A\n",
            " 45%|████▌     | 295/652 [00:34<00:40,  8.84it/s]\u001b[A\n",
            " 45%|████▌     | 296/652 [00:34<00:40,  8.71it/s]\u001b[A\n",
            " 46%|████▌     | 297/652 [00:34<00:40,  8.68it/s]\u001b[A\n",
            " 46%|████▌     | 298/652 [00:34<00:40,  8.67it/s]\u001b[A\n",
            " 46%|████▌     | 299/652 [00:34<00:40,  8.69it/s]\u001b[A\n",
            " 46%|████▌     | 300/652 [00:34<00:40,  8.67it/s]\u001b[A\n",
            " 46%|████▌     | 301/652 [00:34<00:40,  8.62it/s]\u001b[A\n",
            " 46%|████▋     | 302/652 [00:34<00:41,  8.52it/s]\u001b[A\n",
            " 46%|████▋     | 303/652 [00:35<00:41,  8.47it/s]\u001b[A\n",
            " 47%|████▋     | 304/652 [00:35<00:40,  8.55it/s]\u001b[A\n",
            " 47%|████▋     | 305/652 [00:35<00:40,  8.60it/s]\u001b[A\n",
            " 47%|████▋     | 306/652 [00:35<00:39,  8.74it/s]\u001b[A\n",
            " 47%|████▋     | 307/652 [00:35<00:39,  8.82it/s]\u001b[A\n",
            " 47%|████▋     | 308/652 [00:35<00:38,  8.90it/s]\u001b[A\n",
            " 47%|████▋     | 309/652 [00:35<00:38,  8.82it/s]\u001b[A\n",
            " 48%|████▊     | 310/652 [00:35<00:40,  8.45it/s]\u001b[A\n",
            " 48%|████▊     | 311/652 [00:35<00:40,  8.51it/s]\u001b[A\n",
            " 48%|████▊     | 312/652 [00:36<00:40,  8.50it/s]\u001b[A\n",
            " 48%|████▊     | 313/652 [00:36<00:39,  8.61it/s]\u001b[A\n",
            " 48%|████▊     | 314/652 [00:36<00:38,  8.75it/s]\u001b[A\n",
            " 48%|████▊     | 315/652 [00:36<00:38,  8.75it/s]\u001b[A\n",
            " 48%|████▊     | 316/652 [00:36<00:38,  8.67it/s]\u001b[A\n",
            " 49%|████▊     | 317/652 [00:36<00:38,  8.63it/s]\u001b[A\n",
            " 49%|████▉     | 318/652 [00:36<00:38,  8.60it/s]\u001b[A\n",
            " 49%|████▉     | 319/652 [00:36<00:39,  8.51it/s]\u001b[A\n",
            " 49%|████▉     | 320/652 [00:36<00:38,  8.63it/s]\u001b[A\n",
            " 49%|████▉     | 321/652 [00:37<00:38,  8.67it/s]\u001b[A\n",
            " 49%|████▉     | 322/652 [00:37<00:38,  8.59it/s]\u001b[A\n",
            " 50%|████▉     | 323/652 [00:37<00:38,  8.61it/s]\u001b[A\n",
            " 50%|████▉     | 324/652 [00:37<00:37,  8.67it/s]\u001b[A\n",
            " 50%|████▉     | 325/652 [00:37<00:37,  8.66it/s]\u001b[A\n",
            " 50%|█████     | 326/652 [00:37<00:37,  8.69it/s]\u001b[A\n",
            " 50%|█████     | 327/652 [00:37<00:37,  8.78it/s]\u001b[A\n",
            " 50%|█████     | 328/652 [00:37<00:37,  8.71it/s]\u001b[A\n",
            " 50%|█████     | 329/652 [00:38<00:37,  8.64it/s]\u001b[A\n",
            " 51%|█████     | 330/652 [00:38<00:37,  8.60it/s]\u001b[A\n",
            " 51%|█████     | 331/652 [00:38<00:37,  8.66it/s]\u001b[A\n",
            " 51%|█████     | 332/652 [00:38<00:36,  8.71it/s]\u001b[A\n",
            " 51%|█████     | 333/652 [00:38<00:36,  8.65it/s]\u001b[A\n",
            " 51%|█████     | 334/652 [00:38<00:36,  8.72it/s]\u001b[A\n",
            " 51%|█████▏    | 335/652 [00:38<00:36,  8.80it/s]\u001b[A\n",
            " 52%|█████▏    | 336/652 [00:38<00:36,  8.76it/s]\u001b[A\n",
            " 52%|█████▏    | 337/652 [00:38<00:36,  8.62it/s]\u001b[A\n",
            " 52%|█████▏    | 338/652 [00:39<00:36,  8.65it/s]\u001b[A\n",
            " 52%|█████▏    | 339/652 [00:39<00:36,  8.64it/s]\u001b[A\n",
            " 52%|█████▏    | 340/652 [00:39<00:35,  8.67it/s]\u001b[A\n",
            " 52%|█████▏    | 341/652 [00:39<00:35,  8.73it/s]\u001b[A\n",
            " 52%|█████▏    | 342/652 [00:39<00:36,  8.48it/s]\u001b[A\n",
            " 53%|█████▎    | 343/652 [00:39<00:36,  8.52it/s]\u001b[A\n",
            " 53%|█████▎    | 344/652 [00:39<00:36,  8.51it/s]\u001b[A\n",
            " 53%|█████▎    | 345/652 [00:39<00:35,  8.55it/s]\u001b[A\n",
            " 53%|█████▎    | 346/652 [00:40<00:35,  8.70it/s]\u001b[A\n",
            " 53%|█████▎    | 347/652 [00:40<00:34,  8.72it/s]\u001b[A\n",
            " 53%|█████▎    | 348/652 [00:40<00:34,  8.73it/s]\u001b[A\n",
            " 54%|█████▎    | 349/652 [00:40<00:35,  8.59it/s]\u001b[A\n",
            " 54%|█████▎    | 350/652 [00:40<00:34,  8.63it/s]\u001b[A\n",
            " 54%|█████▍    | 351/652 [00:40<00:34,  8.65it/s]\u001b[A\n",
            " 54%|█████▍    | 352/652 [00:40<00:34,  8.61it/s]\u001b[A\n",
            " 54%|█████▍    | 353/652 [00:40<00:34,  8.68it/s]\u001b[A\n",
            " 54%|█████▍    | 354/652 [00:40<00:34,  8.70it/s]\u001b[A\n",
            " 54%|█████▍    | 355/652 [00:41<00:35,  8.43it/s]\u001b[A\n",
            " 55%|█████▍    | 356/652 [00:41<00:34,  8.51it/s]\u001b[A\n",
            " 55%|█████▍    | 357/652 [00:41<00:34,  8.61it/s]\u001b[A\n",
            " 55%|█████▍    | 358/652 [00:41<00:33,  8.68it/s]\u001b[A\n",
            " 55%|█████▌    | 359/652 [00:41<00:33,  8.68it/s]\u001b[A\n",
            " 55%|█████▌    | 360/652 [00:41<00:33,  8.73it/s]\u001b[A\n",
            " 55%|█████▌    | 361/652 [00:41<00:33,  8.75it/s]\u001b[A\n",
            " 56%|█████▌    | 362/652 [00:41<00:33,  8.71it/s]\u001b[A\n",
            " 56%|█████▌    | 363/652 [00:41<00:33,  8.72it/s]\u001b[A\n",
            " 56%|█████▌    | 364/652 [00:42<00:33,  8.70it/s]\u001b[A\n",
            " 56%|█████▌    | 365/652 [00:42<00:33,  8.67it/s]\u001b[A\n",
            " 56%|█████▌    | 366/652 [00:42<00:33,  8.65it/s]\u001b[A\n",
            " 56%|█████▋    | 367/652 [00:42<00:32,  8.68it/s]\u001b[A\n",
            " 56%|█████▋    | 368/652 [00:42<00:33,  8.41it/s]\u001b[A\n",
            " 57%|█████▋    | 369/652 [00:42<00:33,  8.55it/s]\u001b[A\n",
            " 57%|█████▋    | 370/652 [00:42<00:33,  8.54it/s]\u001b[A\n",
            " 57%|█████▋    | 371/652 [00:42<00:33,  8.40it/s]\u001b[A\n",
            " 57%|█████▋    | 372/652 [00:43<00:33,  8.40it/s]\u001b[A\n",
            " 57%|█████▋    | 373/652 [00:43<00:32,  8.50it/s]\u001b[A\n",
            " 57%|█████▋    | 374/652 [00:43<00:32,  8.55it/s]\u001b[A\n",
            " 58%|█████▊    | 375/652 [00:43<00:32,  8.62it/s]\u001b[A\n",
            " 58%|█████▊    | 376/652 [00:43<00:32,  8.58it/s]\u001b[A\n",
            " 58%|█████▊    | 377/652 [00:43<00:31,  8.66it/s]\u001b[A\n",
            " 58%|█████▊    | 378/652 [00:43<00:31,  8.63it/s]\u001b[A\n",
            " 58%|█████▊    | 379/652 [00:43<00:31,  8.68it/s]\u001b[A\n",
            " 58%|█████▊    | 380/652 [00:43<00:31,  8.71it/s]\u001b[A\n",
            " 58%|█████▊    | 381/652 [00:44<00:31,  8.49it/s]\u001b[A\n",
            " 59%|█████▊    | 382/652 [00:44<00:31,  8.53it/s]\u001b[A\n",
            " 59%|█████▊    | 383/652 [00:44<00:31,  8.62it/s]\u001b[A\n",
            " 59%|█████▉    | 384/652 [00:44<00:31,  8.63it/s]\u001b[A\n",
            " 59%|█████▉    | 385/652 [00:44<00:30,  8.70it/s]\u001b[A\n",
            " 59%|█████▉    | 386/652 [00:44<00:30,  8.74it/s]\u001b[A\n",
            " 59%|█████▉    | 387/652 [00:44<00:30,  8.58it/s]\u001b[A\n",
            " 60%|█████▉    | 388/652 [00:44<00:30,  8.65it/s]\u001b[A\n",
            " 60%|█████▉    | 389/652 [00:44<00:30,  8.73it/s]\u001b[A\n",
            " 60%|█████▉    | 390/652 [00:45<00:30,  8.70it/s]\u001b[A\n",
            " 60%|█████▉    | 391/652 [00:45<00:29,  8.74it/s]\u001b[A\n",
            " 60%|██████    | 392/652 [00:45<00:29,  8.77it/s]\u001b[A\n",
            " 60%|██████    | 393/652 [00:45<00:29,  8.79it/s]\u001b[A\n",
            " 60%|██████    | 394/652 [00:45<00:29,  8.76it/s]\u001b[A\n",
            " 61%|██████    | 395/652 [00:45<00:30,  8.56it/s]\u001b[A\n",
            " 61%|██████    | 396/652 [00:45<00:30,  8.52it/s]\u001b[A\n",
            " 61%|██████    | 397/652 [00:45<00:29,  8.52it/s]\u001b[A\n",
            " 61%|██████    | 398/652 [00:46<00:29,  8.56it/s]\u001b[A\n",
            " 61%|██████    | 399/652 [00:46<00:29,  8.51it/s]\u001b[A\n",
            " 61%|██████▏   | 400/652 [00:46<00:29,  8.59it/s]\u001b[A\n",
            " 62%|██████▏   | 401/652 [00:46<00:29,  8.59it/s]\u001b[A\n",
            " 62%|██████▏   | 402/652 [00:46<00:28,  8.63it/s]\u001b[A\n",
            " 62%|██████▏   | 403/652 [00:46<00:29,  8.56it/s]\u001b[A\n",
            " 62%|██████▏   | 404/652 [00:46<00:28,  8.62it/s]\u001b[A\n",
            " 62%|██████▏   | 405/652 [00:46<00:28,  8.68it/s]\u001b[A\n",
            " 62%|██████▏   | 406/652 [00:46<00:28,  8.74it/s]\u001b[A\n",
            " 62%|██████▏   | 407/652 [00:47<00:28,  8.70it/s]\u001b[A\n",
            " 63%|██████▎   | 408/652 [00:47<00:28,  8.58it/s]\u001b[A\n",
            " 63%|██████▎   | 409/652 [00:47<00:28,  8.46it/s]\u001b[A\n",
            " 63%|██████▎   | 410/652 [00:47<00:28,  8.44it/s]\u001b[A\n",
            " 63%|██████▎   | 411/652 [00:47<00:28,  8.48it/s]\u001b[A\n",
            " 63%|██████▎   | 412/652 [00:47<00:27,  8.61it/s]\u001b[A\n",
            " 63%|██████▎   | 413/652 [00:47<00:28,  8.47it/s]\u001b[A\n",
            " 63%|██████▎   | 414/652 [00:47<00:27,  8.57it/s]\u001b[A\n",
            " 64%|██████▎   | 415/652 [00:48<00:27,  8.61it/s]\u001b[A\n",
            " 64%|██████▍   | 416/652 [00:48<00:27,  8.69it/s]\u001b[A\n",
            " 64%|██████▍   | 417/652 [00:48<00:26,  8.78it/s]\u001b[A\n",
            " 64%|██████▍   | 418/652 [00:48<00:26,  8.87it/s]\u001b[A\n",
            " 64%|██████▍   | 419/652 [00:48<00:26,  8.89it/s]\u001b[A\n",
            " 64%|██████▍   | 420/652 [00:48<00:26,  8.72it/s]\u001b[A\n",
            " 65%|██████▍   | 421/652 [00:48<00:26,  8.75it/s]\u001b[A\n",
            " 65%|██████▍   | 422/652 [00:48<00:26,  8.74it/s]\u001b[A\n",
            " 65%|██████▍   | 423/652 [00:48<00:26,  8.70it/s]\u001b[A\n",
            " 65%|██████▌   | 424/652 [00:49<00:26,  8.58it/s]\u001b[A\n",
            " 65%|██████▌   | 425/652 [00:49<00:26,  8.59it/s]\u001b[A\n",
            " 65%|██████▌   | 426/652 [00:49<00:26,  8.65it/s]\u001b[A\n",
            " 65%|██████▌   | 427/652 [00:49<00:25,  8.66it/s]\u001b[A\n",
            " 66%|██████▌   | 428/652 [00:49<00:25,  8.65it/s]\u001b[A\n",
            " 66%|██████▌   | 429/652 [00:49<00:26,  8.46it/s]\u001b[A\n",
            " 66%|██████▌   | 430/652 [00:49<00:26,  8.40it/s]\u001b[A\n",
            " 66%|██████▌   | 431/652 [00:49<00:25,  8.51it/s]\u001b[A\n",
            " 66%|██████▋   | 432/652 [00:49<00:25,  8.57it/s]\u001b[A\n",
            " 66%|██████▋   | 433/652 [00:50<00:25,  8.64it/s]\u001b[A\n",
            " 67%|██████▋   | 434/652 [00:50<00:25,  8.68it/s]\u001b[A\n",
            " 67%|██████▋   | 435/652 [00:50<00:25,  8.66it/s]\u001b[A\n",
            " 67%|██████▋   | 436/652 [00:50<00:24,  8.70it/s]\u001b[A\n",
            " 67%|██████▋   | 437/652 [00:50<00:24,  8.66it/s]\u001b[A\n",
            " 67%|██████▋   | 438/652 [00:50<00:24,  8.66it/s]\u001b[A\n",
            " 67%|██████▋   | 439/652 [00:50<00:24,  8.56it/s]\u001b[A\n",
            " 67%|██████▋   | 440/652 [00:50<00:24,  8.63it/s]\u001b[A\n",
            " 68%|██████▊   | 441/652 [00:51<00:24,  8.56it/s]\u001b[A\n",
            " 68%|██████▊   | 442/652 [00:51<00:24,  8.64it/s]\u001b[A\n",
            " 68%|██████▊   | 443/652 [00:51<00:24,  8.52it/s]\u001b[A\n",
            " 68%|██████▊   | 444/652 [00:51<00:24,  8.61it/s]\u001b[A\n",
            " 68%|██████▊   | 445/652 [00:51<00:24,  8.55it/s]\u001b[A\n",
            " 68%|██████▊   | 446/652 [00:51<00:23,  8.60it/s]\u001b[A\n",
            " 69%|██████▊   | 447/652 [00:51<00:23,  8.63it/s]\u001b[A\n",
            " 69%|██████▊   | 448/652 [00:51<00:23,  8.68it/s]\u001b[A\n",
            " 69%|██████▉   | 449/652 [00:51<00:23,  8.72it/s]\u001b[A\n",
            " 69%|██████▉   | 450/652 [00:52<00:23,  8.76it/s]\u001b[A\n",
            " 69%|██████▉   | 451/652 [00:52<00:22,  8.86it/s]\u001b[A\n",
            " 69%|██████▉   | 452/652 [00:52<00:23,  8.56it/s]\u001b[A\n",
            " 69%|██████▉   | 453/652 [00:52<00:22,  8.66it/s]\u001b[A\n",
            " 70%|██████▉   | 454/652 [00:52<00:22,  8.72it/s]\u001b[A\n",
            " 70%|██████▉   | 455/652 [00:52<00:22,  8.62it/s]\u001b[A\n",
            " 70%|██████▉   | 456/652 [00:52<00:22,  8.58it/s]\u001b[A\n",
            " 70%|███████   | 457/652 [00:52<00:22,  8.67it/s]\u001b[A\n",
            " 70%|███████   | 458/652 [00:52<00:22,  8.75it/s]\u001b[A\n",
            " 70%|███████   | 459/652 [00:53<00:22,  8.75it/s]\u001b[A\n",
            " 71%|███████   | 460/652 [00:53<00:22,  8.62it/s]\u001b[A\n",
            " 71%|███████   | 461/652 [00:53<00:22,  8.41it/s]\u001b[A\n",
            " 71%|███████   | 462/652 [00:53<00:22,  8.46it/s]\u001b[A\n",
            " 71%|███████   | 463/652 [00:53<00:23,  8.22it/s]\u001b[A\n",
            " 71%|███████   | 464/652 [00:53<00:22,  8.27it/s]\u001b[A\n",
            " 71%|███████▏  | 465/652 [00:53<00:22,  8.40it/s]\u001b[A\n",
            " 71%|███████▏  | 466/652 [00:53<00:22,  8.45it/s]\u001b[A\n",
            " 72%|███████▏  | 467/652 [00:54<00:21,  8.45it/s]\u001b[A\n",
            " 72%|███████▏  | 468/652 [00:54<00:21,  8.57it/s]\u001b[A\n",
            " 72%|███████▏  | 469/652 [00:54<00:21,  8.55it/s]\u001b[A\n",
            " 72%|███████▏  | 470/652 [00:54<00:21,  8.62it/s]\u001b[A\n",
            " 72%|███████▏  | 471/652 [00:54<00:21,  8.55it/s]\u001b[A\n",
            " 72%|███████▏  | 472/652 [00:54<00:21,  8.47it/s]\u001b[A\n",
            " 73%|███████▎  | 473/652 [00:54<00:21,  8.40it/s]\u001b[A\n",
            " 73%|███████▎  | 474/652 [00:54<00:20,  8.49it/s]\u001b[A\n",
            " 73%|███████▎  | 475/652 [00:54<00:20,  8.58it/s]\u001b[A\n",
            " 73%|███████▎  | 476/652 [00:55<00:20,  8.48it/s]\u001b[A\n",
            " 73%|███████▎  | 477/652 [00:55<00:20,  8.41it/s]\u001b[A\n",
            " 73%|███████▎  | 478/652 [00:55<00:20,  8.37it/s]\u001b[A\n",
            " 73%|███████▎  | 479/652 [00:55<00:20,  8.47it/s]\u001b[A\n",
            " 74%|███████▎  | 480/652 [00:55<00:19,  8.61it/s]\u001b[A\n",
            " 74%|███████▍  | 481/652 [00:55<00:19,  8.67it/s]\u001b[A\n",
            " 74%|███████▍  | 482/652 [00:55<00:19,  8.57it/s]\u001b[A\n",
            " 74%|███████▍  | 483/652 [00:55<00:19,  8.52it/s]\u001b[A\n",
            " 74%|███████▍  | 484/652 [00:56<00:19,  8.40it/s]\u001b[A\n",
            " 74%|███████▍  | 485/652 [00:56<00:19,  8.52it/s]\u001b[A\n",
            " 75%|███████▍  | 486/652 [00:56<00:19,  8.64it/s]\u001b[A\n",
            " 75%|███████▍  | 487/652 [00:56<00:19,  8.44it/s]\u001b[A\n",
            " 75%|███████▍  | 488/652 [00:56<00:19,  8.52it/s]\u001b[A\n",
            " 75%|███████▌  | 489/652 [00:56<00:19,  8.53it/s]\u001b[A\n",
            " 75%|███████▌  | 490/652 [00:56<00:18,  8.58it/s]\u001b[A\n",
            " 75%|███████▌  | 491/652 [00:56<00:18,  8.66it/s]\u001b[A\n",
            " 75%|███████▌  | 492/652 [00:56<00:18,  8.75it/s]\u001b[A\n",
            " 76%|███████▌  | 493/652 [00:57<00:18,  8.83it/s]\u001b[A\n",
            " 76%|███████▌  | 494/652 [00:57<00:17,  8.93it/s]\u001b[A\n",
            " 76%|███████▌  | 495/652 [00:57<00:17,  8.81it/s]\u001b[A\n",
            " 76%|███████▌  | 496/652 [00:57<00:18,  8.47it/s]\u001b[A\n",
            " 76%|███████▌  | 497/652 [00:57<00:18,  8.49it/s]\u001b[A\n",
            " 76%|███████▋  | 498/652 [00:57<00:17,  8.56it/s]\u001b[A\n",
            " 77%|███████▋  | 499/652 [00:57<00:17,  8.58it/s]\u001b[A\n",
            " 77%|███████▋  | 500/652 [00:57<00:17,  8.63it/s]\u001b[A\n",
            " 77%|███████▋  | 501/652 [00:58<00:17,  8.59it/s]\u001b[A\n",
            " 77%|███████▋  | 502/652 [00:58<00:17,  8.69it/s]\u001b[A\n",
            " 77%|███████▋  | 503/652 [00:58<00:17,  8.68it/s]\u001b[A\n",
            " 77%|███████▋  | 504/652 [00:58<00:16,  8.74it/s]\u001b[A\n",
            " 77%|███████▋  | 505/652 [00:58<00:16,  8.78it/s]\u001b[A\n",
            " 78%|███████▊  | 506/652 [00:58<00:16,  8.85it/s]\u001b[A\n",
            " 78%|███████▊  | 507/652 [00:58<00:16,  8.92it/s]\u001b[A\n",
            " 78%|███████▊  | 508/652 [00:58<00:16,  8.99it/s]\u001b[A\n",
            " 78%|███████▊  | 509/652 [00:58<00:16,  8.89it/s]\u001b[A\n",
            " 78%|███████▊  | 510/652 [00:59<00:16,  8.70it/s]\u001b[A\n",
            " 78%|███████▊  | 511/652 [00:59<00:16,  8.64it/s]\u001b[A\n",
            " 79%|███████▊  | 512/652 [00:59<00:16,  8.67it/s]\u001b[A\n",
            " 79%|███████▊  | 513/652 [00:59<00:15,  8.70it/s]\u001b[A\n",
            " 79%|███████▉  | 514/652 [00:59<00:15,  8.72it/s]\u001b[A\n",
            " 79%|███████▉  | 515/652 [00:59<00:15,  8.74it/s]\u001b[A\n",
            " 79%|███████▉  | 516/652 [00:59<00:15,  8.64it/s]\u001b[A\n",
            " 79%|███████▉  | 517/652 [00:59<00:16,  8.44it/s]\u001b[A\n",
            " 79%|███████▉  | 518/652 [00:59<00:15,  8.56it/s]\u001b[A\n",
            " 80%|███████▉  | 519/652 [01:00<00:15,  8.55it/s]\u001b[A\n",
            " 80%|███████▉  | 520/652 [01:00<00:15,  8.65it/s]\u001b[A\n",
            " 80%|███████▉  | 521/652 [01:00<00:15,  8.64it/s]\u001b[A\n",
            " 80%|████████  | 522/652 [01:00<00:15,  8.51it/s]\u001b[A\n",
            " 80%|████████  | 523/652 [01:00<00:15,  8.55it/s]\u001b[A\n",
            " 80%|████████  | 524/652 [01:00<00:15,  8.38it/s]\u001b[A\n",
            " 81%|████████  | 525/652 [01:00<00:15,  8.44it/s]\u001b[A\n",
            " 81%|████████  | 526/652 [01:00<00:14,  8.53it/s]\u001b[A\n",
            " 81%|████████  | 527/652 [01:01<00:14,  8.61it/s]\u001b[A\n",
            " 81%|████████  | 528/652 [01:01<00:14,  8.67it/s]\u001b[A\n",
            " 81%|████████  | 529/652 [01:01<00:14,  8.71it/s]\u001b[A\n",
            " 81%|████████▏ | 530/652 [01:01<00:13,  8.77it/s]\u001b[A\n",
            " 81%|████████▏ | 531/652 [01:01<00:13,  8.80it/s]\u001b[A\n",
            " 82%|████████▏ | 532/652 [01:01<00:13,  8.79it/s]\u001b[A\n",
            " 82%|████████▏ | 533/652 [01:01<00:13,  8.66it/s]\u001b[A\n",
            " 82%|████████▏ | 534/652 [01:01<00:13,  8.68it/s]\u001b[A\n",
            " 82%|████████▏ | 535/652 [01:01<00:13,  8.69it/s]\u001b[A\n",
            " 82%|████████▏ | 536/652 [01:02<00:13,  8.59it/s]\u001b[A\n",
            " 82%|████████▏ | 537/652 [01:02<00:13,  8.55it/s]\u001b[A\n",
            " 83%|████████▎ | 538/652 [01:02<00:13,  8.60it/s]\u001b[A\n",
            " 83%|████████▎ | 539/652 [01:02<00:13,  8.60it/s]\u001b[A\n",
            " 83%|████████▎ | 540/652 [01:02<00:12,  8.62it/s]\u001b[A\n",
            " 83%|████████▎ | 541/652 [01:02<00:12,  8.55it/s]\u001b[A\n",
            " 83%|████████▎ | 542/652 [01:02<00:12,  8.59it/s]\u001b[A\n",
            " 83%|████████▎ | 543/652 [01:02<00:12,  8.67it/s]\u001b[A\n",
            " 83%|████████▎ | 544/652 [01:02<00:12,  8.63it/s]\u001b[A\n",
            " 84%|████████▎ | 545/652 [01:03<00:12,  8.74it/s]\u001b[A\n",
            " 84%|████████▎ | 546/652 [01:03<00:11,  8.85it/s]\u001b[A\n",
            " 84%|████████▍ | 547/652 [01:03<00:11,  8.82it/s]\u001b[A\n",
            " 84%|████████▍ | 548/652 [01:03<00:11,  8.85it/s]\u001b[A\n",
            " 84%|████████▍ | 549/652 [01:03<00:11,  8.81it/s]\u001b[A\n",
            " 84%|████████▍ | 550/652 [01:03<00:11,  8.72it/s]\u001b[A\n",
            " 85%|████████▍ | 551/652 [01:03<00:11,  8.59it/s]\u001b[A\n",
            " 85%|████████▍ | 552/652 [01:03<00:11,  8.70it/s]\u001b[A\n",
            " 85%|████████▍ | 553/652 [01:04<00:11,  8.66it/s]\u001b[A\n",
            " 85%|████████▍ | 554/652 [01:04<00:11,  8.65it/s]\u001b[A\n",
            " 85%|████████▌ | 555/652 [01:04<00:11,  8.57it/s]\u001b[A\n",
            " 85%|████████▌ | 556/652 [01:04<00:11,  8.64it/s]\u001b[A\n",
            " 85%|████████▌ | 557/652 [01:04<00:10,  8.69it/s]\u001b[A\n",
            " 86%|████████▌ | 558/652 [01:04<00:10,  8.74it/s]\u001b[A\n",
            " 86%|████████▌ | 559/652 [01:04<00:10,  8.75it/s]\u001b[A\n",
            " 86%|████████▌ | 560/652 [01:04<00:10,  8.70it/s]\u001b[A\n",
            " 86%|████████▌ | 561/652 [01:04<00:10,  8.65it/s]\u001b[A\n",
            " 86%|████████▌ | 562/652 [01:05<00:10,  8.50it/s]\u001b[A\n",
            " 86%|████████▋ | 563/652 [01:05<00:10,  8.62it/s]\u001b[A\n",
            " 87%|████████▋ | 564/652 [01:05<00:10,  8.70it/s]\u001b[A\n",
            " 87%|████████▋ | 565/652 [01:05<00:10,  8.48it/s]\u001b[A\n",
            " 87%|████████▋ | 566/652 [01:05<00:10,  8.50it/s]\u001b[A\n",
            " 87%|████████▋ | 567/652 [01:05<00:10,  8.39it/s]\u001b[A\n",
            " 87%|████████▋ | 568/652 [01:05<00:09,  8.44it/s]\u001b[A\n",
            " 87%|████████▋ | 569/652 [01:05<00:09,  8.49it/s]\u001b[A\n",
            " 87%|████████▋ | 570/652 [01:05<00:09,  8.55it/s]\u001b[A\n",
            " 88%|████████▊ | 571/652 [01:06<00:09,  8.62it/s]\u001b[A\n",
            " 88%|████████▊ | 572/652 [01:06<00:09,  8.73it/s]\u001b[A\n",
            " 88%|████████▊ | 573/652 [01:06<00:09,  8.78it/s]\u001b[A\n",
            " 88%|████████▊ | 574/652 [01:06<00:08,  8.73it/s]\u001b[A\n",
            " 88%|████████▊ | 575/652 [01:06<00:08,  8.68it/s]\u001b[A\n",
            " 88%|████████▊ | 576/652 [01:06<00:08,  8.49it/s]\u001b[A\n",
            " 88%|████████▊ | 577/652 [01:06<00:08,  8.50it/s]\u001b[A\n",
            " 89%|████████▊ | 578/652 [01:06<00:09,  8.18it/s]\u001b[A\n",
            " 89%|████████▉ | 579/652 [01:07<00:08,  8.17it/s]\u001b[A\n",
            " 89%|████████▉ | 580/652 [01:07<00:08,  8.26it/s]\u001b[A\n",
            " 89%|████████▉ | 581/652 [01:07<00:08,  8.38it/s]\u001b[A\n",
            " 89%|████████▉ | 582/652 [01:07<00:08,  8.45it/s]\u001b[A\n",
            " 89%|████████▉ | 583/652 [01:07<00:08,  8.56it/s]\u001b[A\n",
            " 90%|████████▉ | 584/652 [01:07<00:07,  8.58it/s]\u001b[A\n",
            " 90%|████████▉ | 585/652 [01:07<00:07,  8.59it/s]\u001b[A\n",
            " 90%|████████▉ | 586/652 [01:07<00:07,  8.64it/s]\u001b[A\n",
            " 90%|█████████ | 587/652 [01:07<00:07,  8.67it/s]\u001b[A\n",
            " 90%|█████████ | 588/652 [01:08<00:07,  8.60it/s]\u001b[A\n",
            " 90%|█████████ | 589/652 [01:08<00:07,  8.66it/s]\u001b[A\n",
            " 90%|█████████ | 590/652 [01:08<00:07,  8.71it/s]\u001b[A\n",
            " 91%|█████████ | 591/652 [01:08<00:07,  8.67it/s]\u001b[A\n",
            " 91%|█████████ | 592/652 [01:08<00:07,  8.54it/s]\u001b[A\n",
            " 91%|█████████ | 593/652 [01:08<00:06,  8.59it/s]\u001b[A\n",
            " 91%|█████████ | 594/652 [01:08<00:06,  8.58it/s]\u001b[A\n",
            " 91%|█████████▏| 595/652 [01:08<00:06,  8.64it/s]\u001b[A\n",
            " 91%|█████████▏| 596/652 [01:09<00:06,  8.59it/s]\u001b[A\n",
            " 92%|█████████▏| 597/652 [01:09<00:06,  8.70it/s]\u001b[A\n",
            " 92%|█████████▏| 598/652 [01:09<00:06,  8.73it/s]\u001b[A\n",
            " 92%|█████████▏| 599/652 [01:09<00:06,  8.73it/s]\u001b[A\n",
            " 92%|█████████▏| 600/652 [01:09<00:05,  8.69it/s]\u001b[A\n",
            " 92%|█████████▏| 601/652 [01:09<00:05,  8.65it/s]\u001b[A\n",
            " 92%|█████████▏| 602/652 [01:09<00:05,  8.60it/s]\u001b[A\n",
            " 92%|█████████▏| 603/652 [01:09<00:05,  8.65it/s]\u001b[A\n",
            " 93%|█████████▎| 604/652 [01:09<00:05,  8.61it/s]\u001b[A\n",
            " 93%|█████████▎| 605/652 [01:10<00:05,  8.51it/s]\u001b[A\n",
            " 93%|█████████▎| 606/652 [01:10<00:05,  8.51it/s]\u001b[A\n",
            " 93%|█████████▎| 607/652 [01:10<00:05,  8.54it/s]\u001b[A\n",
            " 93%|█████████▎| 608/652 [01:10<00:05,  8.54it/s]\u001b[A\n",
            " 93%|█████████▎| 609/652 [01:10<00:05,  8.47it/s]\u001b[A\n",
            " 94%|█████████▎| 610/652 [01:10<00:04,  8.56it/s]\u001b[A\n",
            " 94%|█████████▎| 611/652 [01:10<00:04,  8.27it/s]\u001b[A\n",
            " 94%|█████████▍| 612/652 [01:10<00:04,  8.45it/s]\u001b[A\n",
            " 94%|█████████▍| 613/652 [01:11<00:04,  8.46it/s]\u001b[A\n",
            " 94%|█████████▍| 614/652 [01:11<00:04,  8.57it/s]\u001b[A\n",
            " 94%|█████████▍| 615/652 [01:11<00:04,  8.64it/s]\u001b[A\n",
            " 94%|█████████▍| 616/652 [01:11<00:04,  8.72it/s]\u001b[A\n",
            " 95%|█████████▍| 617/652 [01:11<00:04,  8.73it/s]\u001b[A\n",
            " 95%|█████████▍| 618/652 [01:11<00:03,  8.67it/s]\u001b[A\n",
            " 95%|█████████▍| 619/652 [01:11<00:03,  8.58it/s]\u001b[A\n",
            " 95%|█████████▌| 620/652 [01:11<00:03,  8.46it/s]\u001b[A\n",
            " 95%|█████████▌| 621/652 [01:11<00:03,  8.58it/s]\u001b[A\n",
            " 95%|█████████▌| 622/652 [01:12<00:03,  8.61it/s]\u001b[A\n",
            " 96%|█████████▌| 623/652 [01:12<00:03,  8.63it/s]\u001b[A\n",
            " 96%|█████████▌| 624/652 [01:12<00:03,  8.66it/s]\u001b[A\n",
            " 96%|█████████▌| 625/652 [01:12<00:03,  8.45it/s]\u001b[A\n",
            " 96%|█████████▌| 626/652 [01:12<00:03,  8.48it/s]\u001b[A\n",
            " 96%|█████████▌| 627/652 [01:12<00:02,  8.56it/s]\u001b[A\n",
            " 96%|█████████▋| 628/652 [01:12<00:02,  8.66it/s]\u001b[A\n",
            " 96%|█████████▋| 629/652 [01:12<00:02,  8.77it/s]\u001b[A\n",
            " 97%|█████████▋| 630/652 [01:12<00:02,  8.72it/s]\u001b[A\n",
            " 97%|█████████▋| 631/652 [01:13<00:02,  8.68it/s]\u001b[A\n",
            " 97%|█████████▋| 632/652 [01:13<00:02,  8.67it/s]\u001b[A\n",
            " 97%|█████████▋| 633/652 [01:13<00:02,  8.62it/s]\u001b[A\n",
            " 97%|█████████▋| 634/652 [01:13<00:02,  8.73it/s]\u001b[A\n",
            " 97%|█████████▋| 635/652 [01:13<00:01,  8.66it/s]\u001b[A\n",
            " 98%|█████████▊| 636/652 [01:13<00:01,  8.70it/s]\u001b[A\n",
            " 98%|█████████▊| 637/652 [01:13<00:01,  8.52it/s]\u001b[A\n",
            " 98%|█████████▊| 638/652 [01:13<00:01,  8.52it/s]\u001b[A\n",
            " 98%|█████████▊| 639/652 [01:14<00:01,  8.65it/s]\u001b[A\n",
            " 98%|█████████▊| 640/652 [01:14<00:01,  8.75it/s]\u001b[A\n",
            " 98%|█████████▊| 641/652 [01:14<00:01,  8.61it/s]\u001b[A\n",
            " 98%|█████████▊| 642/652 [01:14<00:01,  8.76it/s]\u001b[A\n",
            " 99%|█████████▊| 643/652 [01:14<00:01,  8.80it/s]\u001b[A\n",
            " 99%|█████████▉| 644/652 [01:14<00:00,  8.75it/s]\u001b[A\n",
            " 99%|█████████▉| 645/652 [01:14<00:00,  8.66it/s]\u001b[A\n",
            " 99%|█████████▉| 646/652 [01:14<00:00,  8.60it/s]\u001b[A\n",
            " 99%|█████████▉| 647/652 [01:14<00:00,  8.34it/s]\u001b[A\n",
            " 99%|█████████▉| 648/652 [01:15<00:00,  8.19it/s]\u001b[A\n",
            "100%|█████████▉| 649/652 [01:15<00:00,  8.36it/s]\u001b[A\n",
            "100%|█████████▉| 650/652 [01:15<00:00,  8.42it/s]\u001b[A\n",
            "100%|█████████▉| 651/652 [01:15<00:00,  8.51it/s]\u001b[A"
          ],
          "name": "stderr"
        }
      ]
    },
    {
      "cell_type": "code",
      "metadata": {
        "id": "43sQwst07Iu8",
        "colab_type": "code",
        "colab": {}
      },
      "source": [
        "test_features = test_features.reshape((13028,4*4*512))"
      ],
      "execution_count": 0,
      "outputs": []
    },
    {
      "cell_type": "code",
      "metadata": {
        "id": "hPj7sVJD5sfl",
        "colab_type": "code",
        "colab": {}
      },
      "source": [
        "np.save('testFeatures',train_features)\n",
        "np.save('testLabels',train_labels)"
      ],
      "execution_count": 0,
      "outputs": []
    },
    {
      "cell_type": "code",
      "metadata": {
        "id": "aQn31xp956bu",
        "colab_type": "code",
        "colab": {}
      },
      "source": [
        "test_features = np.load('testFeatures.npy')\n",
        "test_labels = np.load('testLabels.npy')"
      ],
      "execution_count": 0,
      "outputs": []
    },
    {
      "cell_type": "code",
      "metadata": {
        "id": "lL3RGELK56q7",
        "colab_type": "code",
        "outputId": "39df15ee-316a-4203-8fdf-4cd13f0d26d0",
        "colab": {
          "base_uri": "https://localhost:8080/",
          "height": 51
        }
      },
      "source": [
        "model.evaluate(train_features,train_labels)"
      ],
      "execution_count": 0,
      "outputs": [
        {
          "output_type": "stream",
          "text": [
            "33314/33314 [==============================] - 3s 96us/step\n"
          ],
          "name": "stdout"
        },
        {
          "output_type": "execute_result",
          "data": {
            "text/plain": [
              "[0.12372092263536269, 0.9646394909047248]"
            ]
          },
          "metadata": {
            "tags": []
          },
          "execution_count": 15
        }
      ]
    },
    {
      "cell_type": "code",
      "metadata": {
        "id": "kwXw4uVx6Qo7",
        "colab_type": "code",
        "outputId": "ea2d8dee-e6dd-488a-99b0-6577d38848df",
        "colab": {
          "base_uri": "https://localhost:8080/",
          "height": 51
        }
      },
      "source": [
        "model.evaluate(test_features,test_labels)"
      ],
      "execution_count": 0,
      "outputs": [
        {
          "output_type": "stream",
          "text": [
            "13028/13028 [==============================] - 1s 96us/step\n"
          ],
          "name": "stdout"
        },
        {
          "output_type": "execute_result",
          "data": {
            "text/plain": [
              "[0.27636484016850477, 0.9092723365059872]"
            ]
          },
          "metadata": {
            "tags": []
          },
          "execution_count": 16
        }
      ]
    },
    {
      "cell_type": "code",
      "metadata": {
        "id": "gJ45FBRc8fvR",
        "colab_type": "code",
        "outputId": "3fa97733-fb5d-4952-faaf-b433f4bb8303",
        "colab": {
          "base_uri": "https://localhost:8080/",
          "height": 34
        }
      },
      "source": [
        "train_dir = '/content/PlantVillage/train'\n",
        "generator = train_datagen.flow_from_directory( train_dir,\n",
        "  target_size=(64, 64),\n",
        "  batch_size=batch_size,\n",
        "  class_mode='categorical')"
      ],
      "execution_count": 0,
      "outputs": [
        {
          "output_type": "stream",
          "text": [
            "Found 33314 images belonging to 15 classes.\n"
          ],
          "name": "stdout"
        }
      ]
    },
    {
      "cell_type": "code",
      "metadata": {
        "id": "i6rq6Skv8gF4",
        "colab_type": "code",
        "colab": {}
      },
      "source": [
        "dictionary = generator.class_indices"
      ],
      "execution_count": 0,
      "outputs": []
    },
    {
      "cell_type": "code",
      "metadata": {
        "id": "Iu9iHkwy6U8c",
        "colab_type": "code",
        "outputId": "5411fb0b-0619-4e09-e0d8-5d93bea0f13f",
        "colab": {
          "base_uri": "https://localhost:8080/",
          "height": 1000
        }
      },
      "source": [
        "cm = confusion_matrix(actual, predicted)\n",
        "classes = []\n",
        "for clas, index in dictionary.items():\n",
        "  classes.append(clas)\n",
        "import seaborn as sns\n",
        "\n",
        "df_cm = pd.DataFrame(cm, index = classes, columns = classes)\n",
        "plt.figure(figsize=(30,30))\n",
        "#plt.text(j, i, \"{:0.2f}\".format(df_cm[i, j])\n",
        "sns.heatmap(df_cm, annot=True, cmap=\"YlGnBu\",fmt='g')"
      ],
      "execution_count": 0,
      "outputs": [
        {
          "output_type": "execute_result",
          "data": {
            "text/plain": [
              "<matplotlib.axes._subplots.AxesSubplot at 0x7f5b6d4022b0>"
            ]
          },
          "metadata": {
            "tags": []
          },
          "execution_count": 23
        },
        {
          "output_type": "display_data",
          "data": {
            "image/png": "[encoded data removed]",
            "text/plain": [
              "<Figure size 2160x2160 with 2 Axes>"
            ]
          },
          "metadata": {
            "tags": []
          }
        }
      ]
    },
    {
      "cell_type": "code",
      "metadata": {
        "id": "t7Z9SQAKLUmd",
        "colab_type": "code",
        "colab": {}
      },
      "source": [
        "!ls"
      ],
      "execution_count": 0,
      "outputs": []
    },
    {
      "cell_type": "code",
      "metadata": {
        "id": "Fld-HjfY-azg",
        "colab_type": "code",
        "outputId": "620e3f6f-d87e-4800-e58a-0c9787976b46",
        "colab": {
          "base_uri": "https://localhost:8080/",
          "height": 34
        }
      },
      "source": [
        "predicted = model.predict_classes(test_features)\n",
        "predicted.shape\n"
      ],
      "execution_count": 0,
      "outputs": [
        {
          "output_type": "execute_result",
          "data": {
            "text/plain": [
              "(13028,)"
            ]
          },
          "metadata": {
            "tags": []
          },
          "execution_count": 15
        }
      ]
    },
    {
      "cell_type": "code",
      "metadata": {
        "id": "PfxGsTFZ-eTW",
        "colab_type": "code",
        "outputId": "2aae6b81-2ca7-4736-d281-d8c3f41ccf0f",
        "colab": {
          "base_uri": "https://localhost:8080/",
          "height": 34
        }
      },
      "source": [
        "actual = [np.where(r==1)[0][0] for r in test_labels]\n",
        "actual = np.array(actual)\n",
        "actual.shape"
      ],
      "execution_count": 0,
      "outputs": [
        {
          "output_type": "execute_result",
          "data": {
            "text/plain": [
              "(13028,)"
            ]
          },
          "metadata": {
            "tags": []
          },
          "execution_count": 16
        }
      ]
    },
    {
      "cell_type": "code",
      "metadata": {
        "id": "2J8UeNtU-gi9",
        "colab_type": "code",
        "colab": {}
      },
      "source": [
        "dictionary = generator.class_indices\n"
      ],
      "execution_count": 0,
      "outputs": []
    },
    {
      "cell_type": "code",
      "metadata": {
        "id": "BZCH-xd1-kd7",
        "colab_type": "code",
        "colab": {}
      },
      "source": [
        "train_dir = '/content/PlantVillage/train'\n",
        "generator = train_datagen.flow_from_directory( train_dir,\n",
        "  target_size=(64, 64),\n",
        "  batch_size=batch_size,\n",
        "  class_mode='categorical')"
      ],
      "execution_count": 0,
      "outputs": []
    },
    {
      "cell_type": "code",
      "metadata": {
        "id": "BU0XzzoJ-re9",
        "colab_type": "code",
        "colab": {}
      },
      "source": [
        "intermidate = conv_base.predict(img_array.reshape(1,128,128,3))\n",
        "result = model.predict_classes(intermidate.reshape(1,4*4*512))\n",
        "print(result)"
      ],
      "execution_count": 0,
      "outputs": []
    },
    {
      "cell_type": "code",
      "metadata": {
        "id": "bie4gz9F-vZd",
        "colab_type": "code",
        "colab": {}
      },
      "source": [
        "#/content/PlantVillage/val/Grape___Black_rot/00090b0f-c140-4e77-8d20-d39f67b75fcc___FAM_B.Rot 0376.JPG\n",
        "image = '/content/PlantVillage/val/IMG_20170313_132418.jpg'\n",
        "img = Image.open(image)\n",
        "size = (128, 128)\n",
        "img = img.resize(size)  \n",
        "img_array = np.array(img)/255.0"
      ],
      "execution_count": 0,
      "outputs": []
    },
    {
      "cell_type": "code",
      "metadata": {
        "id": "2i74P0B9ax0H",
        "colab_type": "code",
        "colab": {}
      },
      "source": [
        "cd /root"
      ],
      "execution_count": 0,
      "outputs": []
    },
    {
      "cell_type": "code",
      "metadata": {
        "id": "B4_bBIZHa43o",
        "colab_type": "code",
        "colab": {}
      },
      "source": [
        "!ls"
      ],
      "execution_count": 0,
      "outputs": []
    },
    {
      "cell_type": "code",
      "metadata": {
        "id": "EnP-4O4m-zVE",
        "colab_type": "code",
        "outputId": "43d4a459-a26d-4f61-e197-11787ab1dd37",
        "colab": {
          "base_uri": "https://localhost:8080/",
          "height": 145
        }
      },
      "source": [
        "img\n"
      ],
      "execution_count": 0,
      "outputs": [
        {
          "output_type": "execute_result",
          "data": {
            "image/png": "[encoded data removed]",
            "text/plain": [
              "<PIL.Image.Image image mode=RGB size=128x128 at 0x7FD0DD4E8940>"
            ]
          },
          "metadata": {
            "tags": []
          },
          "execution_count": 21
        }
      ]
    },
    {
      "cell_type": "code",
      "metadata": {
        "id": "oFHr7xsJ-15j",
        "colab_type": "code",
        "outputId": "c505ebad-037e-4e5a-d2b3-80c32a94813b",
        "colab": {
          "base_uri": "https://localhost:8080/",
          "height": 34
        }
      },
      "source": [
        "intermidate = conv_base.predict(img_array.reshape(1,128,128,3))\n",
        "result = model.predict_classes(intermidate.reshape(1,4*4*512))\n",
        "print(result)"
      ],
      "execution_count": 0,
      "outputs": [
        {
          "output_type": "stream",
          "text": [
            "[7]\n"
          ],
          "name": "stdout"
        }
      ]
    },
    {
      "cell_type": "code",
      "metadata": {
        "id": "APjA-i6OOpuy",
        "colab_type": "code",
        "outputId": "4cf61f9a-33c3-4df9-f5e9-ff68912bf66f",
        "colab": {
          "base_uri": "https://localhost:8080/",
          "height": 269
        }
      },
      "source": [
        "x = model.predict(intermidate.reshape(1,4*4*512))\n",
        "for i in range(x[0].shape[0]):\n",
        "  print(x[0][i]*100)"
      ],
      "execution_count": 0,
      "outputs": [
        {
          "output_type": "stream",
          "text": [
            "0.014320583431981504\n",
            "0.008782721124589443\n",
            "0.0003399203933440731\n",
            "0.5082986317574978\n",
            "4.137316346168518\n",
            "2.1662678569555283\n",
            "0.06819164264015853\n",
            "74.11171793937683\n",
            "18.788518011569977\n",
            "0.13341213343665004\n",
            "0.0028523845685413107\n",
            "0.048549973871558905\n",
            "0.0028818876671721227\n",
            "6.37017421922792e-05\n",
            "0.008481049007968977\n"
          ],
          "name": "stdout"
        }
      ]
    },
    {
      "cell_type": "code",
      "metadata": {
        "id": "uKWw2jax-4Cd",
        "colab_type": "code",
        "outputId": "375e6023-2ad9-4533-95e6-69d5555c3d7f",
        "colab": {
          "base_uri": "https://localhost:8080/",
          "height": 690
        }
      },
      "source": [
        "import pandas as pd\n",
        "import numpy as np\n",
        "import matplotlib.pyplot as plt\n",
        "from sklearn import datasets\n",
        "from sklearn.metrics import roc_curve,auc\n",
        "from scipy import interp\n",
        "from itertools import cycle\n",
        "plt.rcParams.update({'font.size': 28})\n",
        "iris = datasets.load_iris()\n",
        "x = iris.data[:, 2:]\n",
        "y = iris.target\n",
        "x_test = x\n",
        "\n",
        "'''NAIVE BAYES'''\n",
        "\n",
        "from sklearn.naive_bayes import GaussianNB\n",
        "model=GaussianNB()\n",
        "model.fit(x,y)\n",
        "nb=model.score(x,y)\n",
        "\n",
        "\n",
        "\n",
        "\n",
        "\n",
        "n_classes=15\n",
        "y_test = actual\n",
        "pred1=predicted\n",
        "\n",
        "t1=sum(x==0 for x in pred1-y_test)/len(pred1)\n",
        "\n",
        "### MACRO\n",
        "fpr = dict()\n",
        "tpr = dict()\n",
        "roc_auc = dict()\n",
        "\n",
        "for i in range(n_classes):\n",
        "    fpr[i], tpr[i], _ = roc_curve(np.array(pd.get_dummies(y_test))[:, i], np.array(pd.get_dummies(pred1))[:, i])\n",
        "    roc_auc[i] = auc(fpr[i], tpr[i])\n",
        "\n",
        "\n",
        "all_fpr = np.unique(np.concatenate([fpr[i] for i in range(n_classes)]))\n",
        "\n",
        "mean_tpr = np.zeros_like(all_fpr)\n",
        "for i in range(n_classes):\n",
        "    mean_tpr += interp(all_fpr, fpr[i], tpr[i])\n",
        "\n",
        "mean_tpr /= n_classes\n",
        "\n",
        "fpr[\"macro\"] = all_fpr\n",
        "tpr[\"macro\"] = mean_tpr\n",
        "roc_auc[\"macro\"] = auc(fpr[\"macro\"], tpr[\"macro\"])\n",
        "\n",
        "lw=2\n",
        "plt.figure(figsize=(10,10))\n",
        "plt.plot(fpr[\"macro\"], tpr[\"macro\"],\n",
        "         color='green', linestyle=':', linewidth=4)\n",
        "\n",
        "colors = cycle(['aqua', 'darkorange', 'cornflowerblue'])\n",
        "for i, color in zip(range(n_classes), colors):\n",
        "    plt.plot(fpr[i], tpr[i], color=color, lw=lw)\n",
        "\n",
        "plt.plot([0, 1], [0, 1], 'k--',color='red', lw=lw)\n",
        "plt.xlim([0.0, 1.0])\n",
        "plt.ylim([0.0, 1.05])\n",
        "plt.xlabel('False Positive Rate')\n",
        "plt.ylabel('True Positive Rate')\n",
        "plt.title('Receiver Operating Characteristics Curve')\n",
        "plt.legend(loc=\"lower right\")\n",
        "plt.show()"
      ],
      "execution_count": 0,
      "outputs": [
        {
          "output_type": "stream",
          "text": [
            "No handles with labels found to put in legend.\n"
          ],
          "name": "stderr"
        },
        {
          "output_type": "display_data",
          "data": {
            "image/png": "[encoded data removed]",
            "text/plain": [
              "<Figure size 720x720 with 1 Axes>"
            ]
          },
          "metadata": {
            "tags": []
          }
        }
      ]
    },
    {
      "cell_type": "code",
      "metadata": {
        "id": "KNBnw655_NdT",
        "colab_type": "code",
        "colab": {}
      },
      "source": [
        "history.save('pikakpi.h5')"
      ],
      "execution_count": 0,
      "outputs": []
    },
    {
      "cell_type": "code",
      "metadata": {
        "id": "yzu8TiHb_qYS",
        "colab_type": "code",
        "colab": {}
      },
      "source": [
        "!pip install -U -q PyDrive\n",
        "from pydrive.auth import GoogleAuth\n",
        "from pydrive.drive import GoogleDrive \n",
        "from google.colab import auth \n",
        "from oauth2client.client import GoogleCredentials"
      ],
      "execution_count": 0,
      "outputs": []
    },
    {
      "cell_type": "code",
      "metadata": {
        "id": "Nkwe2rIh_7Nq",
        "colab_type": "code",
        "colab": {}
      },
      "source": [
        "auth.authenticate_user()\n",
        "gauth = GoogleAuth()\n",
        "gauth.credentials = GoogleCredentials.get_application_default()     "
      ],
      "execution_count": 0,
      "outputs": []
    },
    {
      "cell_type": "code",
      "metadata": {
        "id": "dQXxLK6MAElh",
        "colab_type": "code",
        "colab": {}
      },
      "source": [
        "drive = GoogleDrive(gauth)\n",
        "model.save('pikakpi.h5')\n",
        "model_file = drive.CreateFile({'title' : 'pikakpi.h5'})   "
      ],
      "execution_count": 0,
      "outputs": []
    },
    {
      "cell_type": "code",
      "metadata": {
        "id": "wRkBtSNYAPgB",
        "colab_type": "code",
        "colab": {}
      },
      "source": [
        "model.save('pikapi.h5')\n",
        "model_file = drive.CreateFile({'title' : 'pikakpi.h5'}) \n",
        "model_file.SetContentFile('pikapi.h5')      \n",
        "model_file.Upload()"
      ],
      "execution_count": 0,
      "outputs": []
    },
    {
      "cell_type": "code",
      "metadata": {
        "id": "pb_wE2vqBlSQ",
        "colab_type": "code",
        "colab": {}
      },
      "source": [
        "import logging\n",
        "\n",
        "logging.getLogger('googleapicliet.discovery_cache').setLevel(logging.ERROR)"
      ],
      "execution_count": 0,
      "outputs": []
    },
    {
      "cell_type": "code",
      "metadata": {
        "id": "0OSboi7BB5BM",
        "colab_type": "code",
        "outputId": "37060623-764e-480f-9d59-7bd9f2563523",
        "colab": {
          "base_uri": "https://localhost:8080/",
          "height": 391
        }
      },
      "source": [
        "from sklearn.metrics import classification_report\n",
        "y_pred = model.predict(x_test)\n",
        "print(classification_report(actual, predicted))"
      ],
      "execution_count": 0,
      "outputs": [
        {
          "output_type": "stream",
          "text": [
            "              precision    recall  f1-score   support\n",
            "\n",
            "           0       0.94      0.97      0.95       800\n",
            "           1       0.86      0.95      0.90       800\n",
            "           2       0.94      0.69      0.80       120\n",
            "           3       0.96      0.91      0.94       360\n",
            "           4       0.81      0.83      0.82       360\n",
            "           5       0.85      0.83      0.84       360\n",
            "           6       0.96      0.98      0.97      1700\n",
            "           7       0.89      0.84      0.87       800\n",
            "           8       0.95      0.89      0.92      1524\n",
            "           9       0.93      0.87      0.90       760\n",
            "          10       0.90      0.88      0.89      1416\n",
            "          11       0.86      0.91      0.88      1340\n",
            "          12       0.82      0.87      0.85      1120\n",
            "          13       0.89      0.92      0.90       296\n",
            "          14       0.98      0.97      0.98      1272\n",
            "\n",
            "    accuracy                           0.91     13028\n",
            "   macro avg       0.90      0.89      0.89     13028\n",
            "weighted avg       0.91      0.91      0.91     13028\n",
            "\n"
          ],
          "name": "stdout"
        }
      ]
    },
    {
      "cell_type": "code",
      "metadata": {
        "id": "CgTdPK-K-XDE",
        "colab_type": "code",
        "colab": {}
      },
      "source": [
        ""
      ],
      "execution_count": 0,
      "outputs": []
    }
  ]
}